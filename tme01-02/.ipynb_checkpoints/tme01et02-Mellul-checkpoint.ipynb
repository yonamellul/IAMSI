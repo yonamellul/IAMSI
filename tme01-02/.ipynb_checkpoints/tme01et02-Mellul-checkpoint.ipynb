{
 "cells": [
  {
   "cell_type": "markdown",
   "metadata": {},
   "source": [
    "IAMSI -- 2022-2023\n",
    "--------\n",
    "*&copy; Equipe pédagogique : Gauvain Bourgne, Jean-Gabriel Ganascia, Marie-Jeanne Lesot, Christophe Marsala, Nicolas Maudet.*"
   ]
  },
  {
   "cell_type": "markdown",
   "metadata": {},
   "source": [
    "# TME 1 et 2 : Jeu à 2 joueurs -  Programmation d'un joueur d'Awélé"
   ]
  },
  {
   "cell_type": "markdown",
   "metadata": {},
   "source": [
    "<font color=\"RED\" size=\"+1\">**[Q]**</font> **Indiquer dans la boîte ci-dessous vos noms et prénoms**"
   ]
  },
  {
   "cell_type": "markdown",
   "metadata": {},
   "source": [
    "Yona MELLUL - 3800646"
   ]
  },
  {
   "cell_type": "markdown",
   "metadata": {},
   "source": [
    "<font color=\"RED\" size=\"+1\">**[Q]**</font> **Renommer ce fichier ipython**\n",
    "\n",
    "Tout en haut de cette page, cliquer sur <tt>tme01et02</tt> et rajouter à la suite de <tt>tme01et02</tt> les noms des membres du binômes séparés par un tiret.\n",
    "\n",
    "Par exemple, pour le binôme Luke Skywalker et Han Solo, le nom de fichier devient : <pre>tme01et02-Skywalker-Solo</pre>\n",
    "\n",
    "Penser à sauvegarder fréquemment le fichier en cours de travail :\n",
    "- soit en cliquant sur l'icône \"disquette\"\n",
    "- soit par la combinaison de touches [Ctrl]-S"
   ]
  },
  {
   "cell_type": "markdown",
   "metadata": {},
   "source": [
    "## Présentation"
   ]
  },
  {
   "cell_type": "markdown",
   "metadata": {},
   "source": [
    "### Objectifs des TME 1 et 2\n",
    "\n",
    "Le travail à réaliser est le suivant : programmer en Python un joueur artificiel d'Awélé. Il peut être utile de commencer par prendre connaissance des règles du jeu fournies en annexe à la fin de cette page.\n",
    "  \n",
    "*A noter* :  Il est autorisé d'écrire des fonctions auxiliaires permettant de simplifier l'écriture\n",
    "  de la fonction répondant à une question. Dans ce cas, ces fonctions doivent être dûment commentées et spécifiées.\n",
    "  "
   ]
  },
  {
   "cell_type": "markdown",
   "metadata": {},
   "source": [
    "#### Compte-rendu des séances de TME 1 et 2\n",
    "\n",
    "Le fichier ipython que vous remplissez ici fait office de compte-rendu pour ces 2 séances de TME.\n",
    "\n",
    "Il y a 2 soumissions à faire **obligatoirement** sur le site Moodle :\n",
    "- 1er compte-rendu : <font color=\"RED\">à l'issue de la première séance</font>, soumettre ce qui a été réalisé lors de la séance.\n",
    "- 2e compte-rendu : <font color=\"RED\">à l'issue de la deuxième séance</font>, soumettre la version finale du travail réalisé durant les 2 séances.\n",
    "\n",
    "Votre compte-rendu a la forme d'un unique fichier ipynb (ce fichier-ci complété, NON ZIPPE).\n"
   ]
  },
  {
   "cell_type": "markdown",
   "metadata": {},
   "source": [
    "### Grille de notation\n",
    "\n",
    "Le barème (indicatif) pour la notation de ce TME est le suivant :\n",
    "- implémentation correcte et effective du minimax : 9 sur 20\n",
    "- implémentation correcte et effective de l'alpha-bêta : 14 sur 20\n",
    "- implémentation d'améliorations ou d'extensions (``pour aller plus loin...'') : +0 à +3 points\n",
    "- programme commenté : -1 à +1 points\n",
    "- efficacité des fonctions :  -1 à +2 points\n",
    "\n",
    "La note finale ne dépassera pas 20."
   ]
  },
  {
   "cell_type": "markdown",
   "metadata": {},
   "source": [
    "## Apprendre à utiliser ipython notebook\n",
    "\n",
    "Ce document est dynamique: il est composé de \"boîtes\" qui peuvent être \"compilées\" par la commande \"Run Cells\" du menu \"Cell\" (ou bien en cliquant sur l'icône >| ou par la combinaison des touches [SHIFT][ENTREE]).\n",
    "\n",
    "Il y a **2 types principaux** de boîtes :\n",
    "- les boîtes \"Markdown\": tout ce qui est tapé dans ces boîtes est du texte qui sera rendu \"joliment\" après avoir été compilé. On peut y écrire des commandes en Latex pour définir des équations, et il reconnaît certaines balises HTML. En cliquant 2 fois dans une boîte Markdown compilée, on a accès à son contenu et on peut alors le modifier.\n",
    "- les boîtes \"Code\": dans ces boîtes, on écrit du code Python. La compilation de la boîte produit l'exécution de ce code Python et produit une boîte \"Out\" dans laquelle le résultat de la dernière commande est affiché. On peut y écrire tout code Python valide. Ce type de boîtes se reconnaît par \"In [n]\" inscrit à côté de leur coin haut gauche (\"n\" est un entier).\n",
    "\n",
    "Le type d'une boîte peut être modifié à l'aide du menu en haut de la page (juste au dessus du texte).\n",
    "\n",
    "L'icône \"+\" permet de créer une nouvelle boîte juste en dessous de la boîte active.\n",
    "\n",
    "L'icône avec les ciseaux permet d'effacer la boîte active (attention ! c'est **irréversible !**).\n",
    "\n",
    "Pour en savoir plus :\n",
    "- http://ipython.org/\n",
    "\n",
    "Vous pouvez aussi vous référer à la documentation Python:\n",
    "- https://www.python.org/\n",
    "\n",
    "\n",
    "Dans ce qui suit, les boîtes Markdown commençant par <font color=\"RED\" size=\"+1\">**[Q]**</font> posent des questions auxquelles il faut répondre dans la boîte qui suit directement (éventuellement, en créant des plusieurs nouvelles boîtes).\n",
    "Certaines des boîtes \"Code\" à remplir sont suivies d'une sortie \"Out[.]:\" qui montre un exemple de résultat attendu."
   ]
  },
  {
   "cell_type": "code",
   "execution_count": 1,
   "metadata": {},
   "outputs": [
    {
     "name": "stdout",
     "output_type": "stream",
     "text": [
      "Un essai quelconque :\n"
     ]
    },
    {
     "data": {
      "text/plain": [
       "5"
      ]
     },
     "execution_count": 1,
     "metadata": {},
     "output_type": "execute_result"
    }
   ],
   "source": [
    "# exemple de boîte de code :\n",
    "#    --> sélectionner cette boîte (en cliquant à l'intérieur)\n",
    "#    --> effectuer \"Run Cells\" du Menu \"Cell\" (ou bien cliquer sur l'icône >|)\n",
    "# \n",
    "\n",
    "print(\"Un essai quelconque :\")\n",
    "2+3\n"
   ]
  },
  {
   "cell_type": "markdown",
   "metadata": {},
   "source": [
    "<font color=\"RED\" size=\"+1\">**[Q]**</font> Dans la boîte \"Code\" suivante, donner les instructions Python pour effectuer le calcul : \n",
    "$$-\\frac{1}{3}\\log_2(\\frac{1}{3})-\\frac{2}{3}\\log_2(\\frac{2}{3})$$\n",
    "\n",
    "Dont la valeur à trouver est :\n",
    "    0.9182958340544896"
   ]
  },
  {
   "cell_type": "code",
   "execution_count": 2,
   "metadata": {},
   "outputs": [
    {
     "data": {
      "text/plain": [
       "0.9182958340544896"
      ]
     },
     "execution_count": 2,
     "metadata": {},
     "output_type": "execute_result"
    }
   ],
   "source": [
    "import math\n",
    "import numpy as np\n",
    "-(1/3)*np.log2(1/3)-2/3*np.log2(2/3)"
   ]
  },
  {
   "cell_type": "markdown",
   "metadata": {},
   "source": [
    "**<font style=\"BACKGROUND-COLOR: lightgray\" color='red'> Important</font>** :\n",
    "en lisant ce texte sur votre ordinateur, pensez bien à exécuter les boîtes \"Code\" dans l'ordre de leur apparition. Toute la page se comporte comme une session Python unique et il pour exécuter certaines boîtes il est nécessaire que les précédentes aient été exécutées au préalable."
   ]
  },
  {
   "cell_type": "markdown",
   "metadata": {},
   "source": [
    "Une fonction utile dans la suite est la fonction <tt>input</tt> qui permet de demander à l'entrée d'une valeur saisie au clavier."
   ]
  },
  {
   "cell_type": "code",
   "execution_count": 3,
   "metadata": {},
   "outputs": [
    {
     "name": "stdout",
     "output_type": "stream",
     "text": [
      "Entrer l'année de naissance : 1999\n",
      "Cela fait donc 24  ans\n"
     ]
    }
   ],
   "source": [
    "# Exemple d'utilisation de input():\n",
    "annee_naiss = input(\"Entrer l\\'année de naissance : \")\n",
    "print(\"Cela fait donc\",2023-int(annee_naiss),\" ans\")"
   ]
  },
  {
   "cell_type": "markdown",
   "metadata": {},
   "source": [
    "## Programmer un joueur d'Awélé\n",
    "\n",
    "Les règles de ce jeu sont rappelées à la fin de ce notebook."
   ]
  },
  {
   "cell_type": "markdown",
   "metadata": {},
   "source": [
    "### Structure de données"
   ]
  },
  {
   "cell_type": "markdown",
   "metadata": {},
   "source": [
    "Pour représenter une position d'Awélé en Python. Une *position* est définie par les éléments suivants :\n",
    "- une *dimension* qui correspond au nombre de colonnes (dans l'Awélé original, il y a 6 colonnes). On note $n$ ce nombre de colonnes dans la suite de ce texte ;\n",
    "- un *plateau* qui correspond au plateau de jeu et donne le nombre de graines dans chaque case ;\n",
    "- un *nombre* qui correspond au nombre total de graines sur le plateau au début du jeu (dépend du nombre de dimensions et du nombre de graines dans chaque case au départ) ;\n",
    "- le *trait* qui correspond au camp devant jouer dans la position donnée. Il y a\n",
    "  deux camps: \"NORD et \"SUD\" ;\n",
    "- le *gain* qui correspond au nombre de graines déjà ramassées par chacun des joueurs.\n",
    "\n",
    "En Python, on choisit de représenter une telle position sous la forme d'un dictionnaire qui associe à chaque nom de champ sa valeur.\n",
    "\n",
    "        # Représentation Python d'une position du jeu d'Awélé:\n",
    "        position = dict()       # initialisation\n",
    "        position['plateau']     # les cases du jeu (voir ci-dessous)\n",
    "        position['dimension']   # le nombre de colonnes du plateau\n",
    "        position['nb_total']    # nombre de graines total au début du jeu sur tout le plateau\n",
    "        position['trait']       # le joueur qui doit jouer: 'SUD' ou 'NORD'\n",
    "        position['gain']        # les graines prises par chaque joueur sous la forme : {'SUD':0, 'NORD':0}\n"
   ]
  },
  {
   "cell_type": "markdown",
   "metadata": {},
   "source": [
    "Dans ce qui suit, on distingue :\n",
    "- un coup *correct* qui correspond à un numéro de colonne correct (valeur comprise entre 1 et $n$), et pour lequel la case correspondante contient au moins une graine;\n",
    "- un coup *autorisé* qui est un coup à la fois correct et permettant d'atteindre une position légale du jeu, c'est-à-dire une position qui respecte la règle obligeant à laisser au moins une graine dans le camp de son adversaire."
   ]
  },
  {
   "cell_type": "markdown",
   "metadata": {},
   "source": [
    "### Représentation du plateau de jeu en Python \n",
    "\n",
    "\n",
    "Pour représenter le plateau en Python, on utilise une liste d'entiers, chaque entier correspondant au nombre de graines dans une case. \n",
    "\n",
    "Soit un plateau de jeu de $n$ colonnes.\n",
    "\n",
    "Pour le camp SUD :\n",
    "- le nombre de graines de la case de la colonne 1 est stocké en position $0$ dans la liste Python ;\n",
    "- le nombre de graines de la case de la colonne  2 est stocké en position $1$ dans la liste Python ;\n",
    "- ...\n",
    "- le nombre de graines de la case de la colonne  $n$ est stocké en position $n-1$ dans la liste Python.\n",
    "\n",
    "Pour le camp NORD :\n",
    "- le nombre de graines de la case de la colonne  1 est stocké en position $2n-1$ dans la liste Python ;\n",
    "- le nombre de graines de la case de la colonne  2 est stocké en position $2n-2$ dans la liste Python ;\n",
    "- ...\n",
    "- le nombre de graines de la case de la colonne  $n$ est stocké en position $n$ dans la liste Python.\n",
    "\n",
    "Cette représentation à l'avantage de favoriser le parcours des cases du plateau : en parcourant la liste par positions croissantes, on retrouve le parcours en sens inverse des aiguilles d'une montre. Ce parcours peut alors se faire en Python en incrémentant de 1 la position pour passer à la case suivante, et en réalisant un calcul modulo $2n$."
   ]
  },
  {
   "cell_type": "markdown",
   "metadata": {},
   "source": [
    "### Package IAMSI et fonctions fournies\n",
    "\n",
    "Le package IAMSI fournie avec ce sujet doit être placée dans le même répertoire que ce notebook.\n",
    "Elle contient la librairie de fonctions de nom <i>awele</i> qui fournit plusieurs fonctions que vous pourrez utiliser:\n",
    "- <tt>position_initiale(n, nb_graines)</tt> : qui définit la position initiale du jeu. Les arguments sont des entiers : <tt>n</tt> donne le nombre de colonnes du plateau du jeu, et <tt>nb_graines</tt> donne le nombre de graines à mettre dans chaque case (par défaut, cet argument vaut 4);\n",
    "- <tt>affichage(position)</tt> : affichage de façon textuelle d'une position ;\n",
    "- <tt>duplique(position)</tt> : recopie d'une position en la dupliquant pour pouvoir y apporter des modifications sans altérer la position originale ;\n",
    "- <tt>joue_un_coup(position,coup)</tt> : renvoie la position obtenue une fois le coup joué dans la position donnée. **Important:** Cette fonction fait l'hypothèse que le coup donné est un coup correct et elle ne vérifie donc pas que la position résultante est bien une position légale du jeu (cela se fait par ailleurs).\n",
    "\n",
    "\n",
    "*Remarque:* il est nécessaire d'importer la librairie et pour utiliser ces fonctions, il faudra préfixer leur nom par le nom d'importation de a librairie."
   ]
  },
  {
   "cell_type": "code",
   "execution_count": 32,
   "metadata": {},
   "outputs": [],
   "source": [
    "# Importation de la librairie awele:\n",
    "# La ligne suivante permet de préciser le chemin d'accès à la librairie iads\n",
    "import sys\n",
    "sys.path.append('../')\n",
    "\n",
    "from IAMSI import awele as aw"
   ]
  },
  {
   "cell_type": "markdown",
   "metadata": {},
   "source": [
    "Les instructions qui suivent permettent de voir comment utiliser les fonctions fournies."
   ]
  },
  {
   "cell_type": "code",
   "execution_count": 33,
   "metadata": {},
   "outputs": [
    {
     "name": "stdout",
     "output_type": "stream",
     "text": [
      "* * * * * * * * * * * * * * * * * * * *\n",
      "\t\tNORD (prises: 0)\n",
      "< - - - - - - - - - - - - - - -\n",
      "colonnes:\t 1 \t 2 \t 3 \t 4 \t 5 \t 6 \n",
      "        \t[4]\t[4]\t[4]\t[4]\t[4]\t[4]\n",
      "        \t[4]\t[4]\t[4]\t[4]\t[4]\t[4]\n",
      "colonnes:\t 1 \t 2 \t 3 \t 4 \t 5 \t 6 \n",
      "\n",
      "- - - - - - - - - - - - - - - >\n",
      "\t\tSUD (prises: 0)\n",
      "\n",
      "-> camp au trait: SUD\n",
      "\n",
      "Nombre de graines au total :  48\n",
      "* * * * * * * * * * * * * * * * * * * *\n",
      "\t\tNORD (prises: 2)\n",
      "< - - - - - - - - - - - - - - -\n",
      "colonnes:\t 1 \t 2 \t 3 \t 4 \t 5 \t 6 \n",
      "        \t[0]\t[1]\t[7]\t[2]\t[7]\t[7]\n",
      "        \t[1]\t[1]\t[1]\t[9]\t[0]\t[7]\n",
      "colonnes:\t 1 \t 2 \t 3 \t 4 \t 5 \t 6 \n",
      "\n",
      "- - - - - - - - - - - - - - - >\n",
      "\t\tSUD (prises: 3)\n",
      "\n",
      "-> camp au trait: NORD\n",
      "\n",
      "#######################################\n",
      "Partie sur un tablier réduit pour tester:\n",
      "* * * * * * * * * * * * * * * * * * * *\n",
      "\t\tNORD (prises: 0)\n",
      "< - - - - - - - - - - - - - - -\n",
      "colonnes:\t 1 \t 2 \t 3 \n",
      "        \t[2]\t[2]\t[2]\n",
      "        \t[2]\t[2]\t[2]\n",
      "colonnes:\t 1 \t 2 \t 3 \n",
      "\n",
      "- - - - - - - - - - - - - - - >\n",
      "\t\tSUD (prises: 0)\n",
      "\n",
      "-> camp au trait: SUD\n",
      "\n",
      "* * * * * * * * * * * * * * * * * * * *\n",
      "\t\tNORD (prises: 2)\n",
      "< - - - - - - - - - - - - - - -\n",
      "colonnes:\t 1 \t 2 \t 3 \n",
      "        \t[0]\t[4]\t[0]\n",
      "        \t[1]\t[5]\t[0]\n",
      "colonnes:\t 1 \t 2 \t 3 \n",
      "\n",
      "- - - - - - - - - - - - - - - >\n",
      "\t\tSUD (prises: 0)\n",
      "\n",
      "-> camp au trait: SUD\n",
      "\n",
      "#######################################\n",
      "Essai de prises:\n",
      "* * * * * * * * * * * * * * * * * * * *\n",
      "\t\tNORD (prises: 0)\n",
      "< - - - - - - - - - - - - - - -\n",
      "colonnes:\t 1 \t 2 \t 3 \t 4 \t 5 \t 6 \n",
      "        \t[2]\t[2]\t[2]\t[2]\t[2]\t[2]\n",
      "        \t[1]\t[2]\t[3]\t[4]\t[5]\t[1]\n",
      "colonnes:\t 1 \t 2 \t 3 \t 4 \t 5 \t 6 \n",
      "\n",
      "- - - - - - - - - - - - - - - >\n",
      "\t\tSUD (prises: 0)\n",
      "\n",
      "-> camp au trait: SUD\n",
      "\n",
      "* * * * * * * * * * * * * * * * * * * *\n",
      "\t\tNORD (prises: 0)\n",
      "< - - - - - - - - - - - - - - -\n",
      "colonnes:\t 1 \t 2 \t 3 \t 4 \t 5 \t 6 \n",
      "        \t[2]\t[2]\t[0]\t[0]\t[0]\t[0]\n",
      "        \t[1]\t[2]\t[3]\t[4]\t[0]\t[2]\n",
      "colonnes:\t 1 \t 2 \t 3 \t 4 \t 5 \t 6 \n",
      "\n",
      "- - - - - - - - - - - - - - - >\n",
      "\t\tSUD (prises: 12)\n",
      "\n",
      "-> camp au trait: NORD\n",
      "\n"
     ]
    }
   ],
   "source": [
    "# ------------------------- POUR VOIR COMMENT CA MARCHE:\n",
    "maPosition = aw.position_initiale(6)\n",
    "aw.affichage(maPosition)\n",
    "print(\"Nombre de graines au total : \",maPosition['nb_total'])\n",
    "\n",
    "maPosition2 = aw.joue_un_coup(maPosition,1) # SUD joue\n",
    "maPosition2 = aw.joue_un_coup(maPosition2,1) # NORD joue\n",
    "maPosition2 = aw.joue_un_coup(maPosition2,2) # SUD joue\n",
    "maPosition2 = aw.joue_un_coup(maPosition2,4) # NORD joue\n",
    "maPosition2 = aw.joue_un_coup(maPosition2,3) # SUD joue\n",
    "maPosition2 = aw.joue_un_coup(maPosition2,2) # NORD joue\n",
    "maPosition2 = aw.joue_un_coup(maPosition2,5) # SUD joue\n",
    "aw.affichage(maPosition2)\n",
    "print(\"#######################################\\nPartie sur un tablier réduit pour tester:\")\n",
    "maPosition = aw.position_initiale(3,2)\n",
    "aw.affichage(maPosition)\n",
    "maPosition2 = aw.joue_un_coup(maPosition,1) # SUD joue\n",
    "maPosition2 = aw.joue_un_coup(maPosition2,1) # NORD joue\n",
    "maPosition2 = aw.joue_un_coup(maPosition2,3) # SUD joue\n",
    "maPosition2 = aw.joue_un_coup(maPosition2,3) # NORD joue\n",
    "maPosition2 = aw.joue_un_coup(maPosition2,1) # SUD joue\n",
    "maPosition2 = aw.joue_un_coup(maPosition2,1) # NORD joue\n",
    "aw.affichage(maPosition2)\n",
    "print(\"#######################################\\nEssai de prises:\")\n",
    "maPosition = aw.position_initiale(6)\n",
    "maPosition['plateau'] = [1, 2, 3, 4, 5, 1, 2, 2, 2, 2, 2, 2]\n",
    "aw.affichage(maPosition)\n",
    "maPosition2 = aw.joue_un_coup(maPosition,5) # SUD joue\n",
    "aw.affichage(maPosition2)\n",
    "# ------------------------- FIN TEST\n",
    "\n"
   ]
  },
  {
   "cell_type": "markdown",
   "metadata": {},
   "source": [
    "### Fonctions simples\n",
    "\n",
    "Les fonctions que vous allez écrire dans la suite seront mises directement dans ce notebook (pas dans la librairie)."
   ]
  },
  {
   "cell_type": "markdown",
   "metadata": {},
   "source": [
    "<font color=\"RED\" size=\"+1\">**[Q]**</font> Ecrire les fonctions suivantes :\n",
    "- <tt>est_correct(position,nombre)</tt>: rend le booléen <tt>True</tt> si le nombre donné peut être un coup correct dans la position donnée, c'est-à-dire si ce nombre est un entier compris entre 1\n",
    "  et <tt>n</tt> et si de plus la case correspondante du plateau (pour le camp qui doit donc jouer\n",
    "  dans la position) contient au moins une graine.\n",
    "- <tt>est_legale(position)</tt>: rend le booléen <tt>True</tt> si la position donnée est légale, c'est-à-dire si le camp qui doit jouer possède au moins une dans son camp.\n",
    "- <tt>effectue_si_valide(position,coup)</tt>: rend la nouvelle position obtenue en jouant <tt>coup</tt>\n",
    "  dans la position donnée. Cette fonction retourne le booléen <tt>False</tt> si le coup\n",
    "  n'est pas correct ou si la position résultante n'est pas une position légale du jeu.\n",
    "- <tt>est_terminale(position)</tt>: rend le booléen <tt>True</tt> si la position est\n",
    "  terminale, c'est-à-dire si aucun coup n'est correct, ou si tout coup correct ne permet\n",
    "  pas d'atteindre une position légale ou bien si l'un des deux joueurs a gagné un nombre de graines suffisant. Dans le jeu Awélé original à 6 colonnes, la position est gagnée dès qu'un camp a remporté 25 graines. Ce qui correspond à $6*4+1$ graines. Ce nombre de graines nécessaire pour remporter la victoire dépend donc de la taille du plateau de jeu.\n"
   ]
  },
  {
   "cell_type": "code",
   "execution_count": 89,
   "metadata": {},
   "outputs": [],
   "source": [
    "def getPlateau(position, joueur):\n",
    "    n = position['dimension']\n",
    "    if joueur == 'SUD':\n",
    "        return position['plateau'][0:n]\n",
    "    else:\n",
    "        return position['plateau'][n:2*n]\n",
    "\n",
    "def gain_suffisant(position):\n",
    "    gain_pour_gagner = position['nb_total']/2 +1\n",
    "    if position['gain']['SUD'] >= gain_pour_gagner:\n",
    "        return True,'SUD'\n",
    "    if position['gain']['NORD'] >= gain_pour_gagner:\n",
    "        return True,'NORD'\n",
    "        \n",
    "    return False, False\n",
    "\n",
    "def affamation(position):\n",
    "    for coup in range(1, position['dimension']+1):\n",
    "        if est_valide(position, coup):\n",
    "            return False\n",
    "    return True\n",
    "\n",
    "def raison_terminal(posTerminal):\n",
    "    gain_suff = gain_suffisant(posTerminal)\n",
    "    if gain_suff[0]:\n",
    "        return gain_suff[1]\n",
    "    else:\n",
    "        return 'PERSONNE'\n",
    "        \n",
    "def pionsLeft(position):\n",
    "    return position['nb_total']-position['gain']['SUD']-position['gain']['NORD']"
   ]
  },
  {
   "cell_type": "code",
   "execution_count": 35,
   "metadata": {},
   "outputs": [],
   "source": [
    "def est_correct(position, nombre):\n",
    "    n = position['dimension']\n",
    "    if position['trait'] == 'SUD':\n",
    "        return (nombre>=1 and nombre<=n) and position['plateau'][nombre-1]>=1\n",
    "    else :\n",
    "        return (nombre>=1 and nombre<=n) and position['plateau'][-nombre]>=1\n",
    "\n",
    "def est_legale(position):\n",
    "    plateau = getPlateau(position, position['trait'])\n",
    "    return sum(plateau)>0\n",
    "\n",
    "def est_valide(position, coup):\n",
    "    if est_correct(position, coup):\n",
    "        pos_copie = aw.duplique(position)\n",
    "        pos_copie = aw.joue_un_coup(pos_copie, coup)\n",
    "        if est_legale(pos_copie):\n",
    "            return True\n",
    "        return False\n",
    "    return False\n",
    "            \n",
    "def effectue_si_valide(position, coup):\n",
    "    if est_valide(position, coup):\n",
    "        return aw.joue_un_coup(position, coup)\n",
    "    return False\n",
    "\n",
    "def est_terminale(position):\n",
    "    return affamation(position) or gain_suffisant(position)[0]\n",
    "        "
   ]
  },
  {
   "cell_type": "markdown",
   "metadata": {},
   "source": [
    "### Moteur de jeu simple"
   ]
  },
  {
   "cell_type": "markdown",
   "metadata": {},
   "source": [
    "<font color=\"RED\" size=\"+1\">**[Q]**</font> Ecrire la fonction <tt>partie_humains(taille=6,nb_graines=4)</tt> permettant à deux joueurs humains de s'affronter dans une partie d'Awélé sur un plateau qui contient <tt>taille</tt> colonnes et <tt>nb_graines</tt> par case au départ.  \n",
    "  Dans cette fonction, les joueurs entrent à tour de rôle leur coup à jouer. Après chaque coup, la position est affichée avec les gains de chaque joueur. Le jeu s'arrête lorsque une position terminale est atteinte et le programme affiche alors le nom du camp vainqueur.\n",
    "  Durant la partie, les coups sont donnés en utilisant la fonction <tt>input()</tt> de Python.\n",
    "  \n"
   ]
  },
  {
   "cell_type": "code",
   "execution_count": 36,
   "metadata": {},
   "outputs": [],
   "source": [
    "def input_coup(position):\n",
    "    coup = int(input(\"Entrer votre coup : \"))\n",
    "    while not est_valide(position, coup):\n",
    "        coup = int(input(\"Ce coup n'est pas valide. Essayez-en un autre: \"))\n",
    "    return coup"
   ]
  },
  {
   "cell_type": "code",
   "execution_count": 37,
   "metadata": {},
   "outputs": [],
   "source": [
    "def partie_humains(taille=6,nb_graines=4, affichage=0):\n",
    "    print(\"QUE LA PARTIE COMMENCE!\")\n",
    "    maPosition = aw.position_initiale(taille, nb_graines)\n",
    "    if affichage:\n",
    "        aw.affichage(maPosition)\n",
    "    while not est_terminale(maPosition):\n",
    "        print(\"--------------------------------------------\")\n",
    "        coup = input_coup(maPosition)\n",
    "        maPosition = aw.joue_un_coup(maPosition, coup)\n",
    "        if affichage:\n",
    "            aw.affichage(maPosition)\n",
    "        print(\"--------------------------------------------\")\n",
    "    \n",
    "    gagnant = raison_terminal(maPosition)\n",
    "    if  gagnant == 'PERSONNE':\n",
    "        print('Il n\\'a plus de coups possibles, la partie est terminée.')\n",
    "    else:\n",
    "        print(\"Le joueur\", gagnant, \"a gagné la partie !!\")\n",
    "              \n",
    "    return \n",
    "    "
   ]
  },
  {
   "cell_type": "code",
   "execution_count": 38,
   "metadata": {
    "scrolled": false
   },
   "outputs": [],
   "source": [
    "# essai sur un petit awélé:\n",
    "#partie_humains(3,2)"
   ]
  },
  {
   "cell_type": "markdown",
   "metadata": {},
   "source": [
    "<font color=\"RED\" size=\"+1\">**[Q]**</font> Ecrire la fonction <tt>genere_un_coup(position)</tt> qui retourne un coup autorisé pour la position donnée. Le coup est choisi de façon aléatoire parmi les coups possibles dans la position donnée. Cette fonction rend la valeur 0 si aucun coup n'est possible."
   ]
  },
  {
   "cell_type": "code",
   "execution_count": 39,
   "metadata": {},
   "outputs": [],
   "source": [
    "import random\n",
    "def coups_possibles(position):\n",
    "    liste = []\n",
    "    for coup in range(1, position['dimension']+1):\n",
    "        if est_valide(position, coup):\n",
    "            liste.append(coup)\n",
    "    return liste\n"
   ]
  },
  {
   "cell_type": "code",
   "execution_count": 40,
   "metadata": {},
   "outputs": [],
   "source": [
    "def genere_un_coup(position):\n",
    "    coups = coups_possibles(position)\n",
    "    if coups == []:\n",
    "        return 0\n",
    "    return random.choice(coups)"
   ]
  },
  {
   "cell_type": "markdown",
   "metadata": {},
   "source": [
    "<font color=\"RED\" size=\"+1\">**[Q]**</font> Ecrire la fonction <tt>partie_aleatoire(campCPU,taille=6,nb_graines=4)</tt> permettant à un joueur humain de jouer contre l'ordinateur qui choisit aléatoirement ses coups. L'argument\n",
    "  <tt>campCPU</tt> donne le camp que doit gérer l'ordinateur (<tt>'SUD'</tt> ou <tt>'NORD'</tt>), l'argument <tt>taille</tt> est un entier strictement positif donnant le nombre de colonnes du plateau de jeu (par défaut 6 colonnes), et l'argument <tt>nb_graines</tt> donne le nombre de graines par case au départ (par défaut, 4 graines)."
   ]
  },
  {
   "cell_type": "code",
   "execution_count": 41,
   "metadata": {},
   "outputs": [],
   "source": [
    "def joueur_opp(joueur):\n",
    "    if joueur == 'SUD':\n",
    "        return 'NORD'\n",
    "    return 'SUD'"
   ]
  },
  {
   "cell_type": "code",
   "execution_count": 90,
   "metadata": {},
   "outputs": [],
   "source": [
    "def partie_aleatoire(campCPU,taille=6,nb_graines=4, affichage=0):\n",
    "    print(\"QUE LA PARTIE COMMENCE!\")\n",
    "    maPosition = aw.position_initiale(taille, nb_graines)\n",
    "    if affichage:\n",
    "        aw.affichage(maPosition)\n",
    "    joueurs = {}\n",
    "    if campCPU == 'SUD':\n",
    "        joueurs['SUD'] = \"ordinateur\"\n",
    "        joueurs['NORD'] = \"humain\"\n",
    "    else:\n",
    "        joueurs['NORD'] = \"ordinateur\"\n",
    "        joueurs['SUD'] = \"humain\"\n",
    "        \n",
    "    while not est_terminale(maPosition):\n",
    "        print(\"--------------------------------------------\")\n",
    "        if joueurs[maPosition['trait']] == 'humain':\n",
    "            coup = input_coup(maPosition)\n",
    "        else : \n",
    "            coup = genere_un_coup(maPosition)\n",
    "            print(\"Je joue le coup:\", coup)\n",
    "\n",
    "        maPosition = aw.joue_un_coup(maPosition, coup)\n",
    "        aw.affichage(maPosition)\n",
    "        print(\"--------------------------------------------\")\n",
    "    \n",
    "    gagnant = raison_terminal(maPosition)\n",
    "    if  gagnant == 'PERSONNE':\n",
    "        print('Il n\\'a plus de coups possibles, la partie est terminée.')\n",
    "    else :\n",
    "        print(\"L'\", joueurs[gagnant], \"a gagné la partie !!\")\n",
    "              \n",
    "    return \n"
   ]
  },
  {
   "cell_type": "code",
   "execution_count": 91,
   "metadata": {
    "scrolled": false
   },
   "outputs": [
    {
     "name": "stdout",
     "output_type": "stream",
     "text": [
      "QUE LA PARTIE COMMENCE!\n",
      "16\n",
      "--------------------------------------------\n",
      "Je joue le coup: 3\n",
      "* * * * * * * * * * * * * * * * * * * *\n",
      "\t\tNORD (prises: 0)\n",
      "< - - - - - - - - - - - - - - -\n",
      "colonnes:\t 1 \t 2 \t 3 \t 4 \n",
      "        \t[2]\t[2]\t[2]\t[0]\n",
      "        \t[2]\t[2]\t[0]\t[3]\n",
      "colonnes:\t 1 \t 2 \t 3 \t 4 \n",
      "\n",
      "- - - - - - - - - - - - - - - >\n",
      "\t\tSUD (prises: 3)\n",
      "\n",
      "-> camp au trait: NORD\n",
      "\n",
      "--------------------------------------------\n",
      "--------------------------------------------\n"
     ]
    },
    {
     "ename": "KeyboardInterrupt",
     "evalue": "Interrupted by user",
     "output_type": "error",
     "traceback": [
      "\u001b[0;31m---------------------------------------------------------------------------\u001b[0m",
      "\u001b[0;31mKeyboardInterrupt\u001b[0m                         Traceback (most recent call last)",
      "Input \u001b[0;32mIn [91]\u001b[0m, in \u001b[0;36m<cell line: 1>\u001b[0;34m()\u001b[0m\n\u001b[0;32m----> 1\u001b[0m \u001b[43mpartie_aleatoire\u001b[49m\u001b[43m(\u001b[49m\u001b[38;5;124;43m'\u001b[39;49m\u001b[38;5;124;43mSUD\u001b[39;49m\u001b[38;5;124;43m'\u001b[39;49m\u001b[43m,\u001b[49m\u001b[38;5;241;43m4\u001b[39;49m\u001b[43m,\u001b[49m\u001b[38;5;241;43m2\u001b[39;49m\u001b[43m)\u001b[49m\n",
      "Input \u001b[0;32mIn [90]\u001b[0m, in \u001b[0;36mpartie_aleatoire\u001b[0;34m(campCPU, taille, nb_graines, affichage)\u001b[0m\n\u001b[1;32m     16\u001b[0m \u001b[38;5;28mprint\u001b[39m(\u001b[38;5;124m\"\u001b[39m\u001b[38;5;124m--------------------------------------------\u001b[39m\u001b[38;5;124m\"\u001b[39m)\n\u001b[1;32m     17\u001b[0m \u001b[38;5;28;01mif\u001b[39;00m joueurs[maPosition[\u001b[38;5;124m'\u001b[39m\u001b[38;5;124mtrait\u001b[39m\u001b[38;5;124m'\u001b[39m]] \u001b[38;5;241m==\u001b[39m \u001b[38;5;124m'\u001b[39m\u001b[38;5;124mhumain\u001b[39m\u001b[38;5;124m'\u001b[39m:\n\u001b[0;32m---> 18\u001b[0m     coup \u001b[38;5;241m=\u001b[39m \u001b[43minput_coup\u001b[49m\u001b[43m(\u001b[49m\u001b[43mmaPosition\u001b[49m\u001b[43m)\u001b[49m\n\u001b[1;32m     19\u001b[0m \u001b[38;5;28;01melse\u001b[39;00m : \n\u001b[1;32m     20\u001b[0m     coup \u001b[38;5;241m=\u001b[39m genere_un_coup(maPosition)\n",
      "Input \u001b[0;32mIn [36]\u001b[0m, in \u001b[0;36minput_coup\u001b[0;34m(position)\u001b[0m\n\u001b[1;32m      1\u001b[0m \u001b[38;5;28;01mdef\u001b[39;00m \u001b[38;5;21minput_coup\u001b[39m(position):\n\u001b[0;32m----> 2\u001b[0m     coup \u001b[38;5;241m=\u001b[39m \u001b[38;5;28mint\u001b[39m(\u001b[38;5;28;43minput\u001b[39;49m\u001b[43m(\u001b[49m\u001b[38;5;124;43m\"\u001b[39;49m\u001b[38;5;124;43mEntrer votre coup : \u001b[39;49m\u001b[38;5;124;43m\"\u001b[39;49m\u001b[43m)\u001b[49m)\n\u001b[1;32m      3\u001b[0m     \u001b[38;5;28;01mwhile\u001b[39;00m \u001b[38;5;129;01mnot\u001b[39;00m est_valide(position, coup):\n\u001b[1;32m      4\u001b[0m         coup \u001b[38;5;241m=\u001b[39m \u001b[38;5;28mint\u001b[39m(\u001b[38;5;28minput\u001b[39m(\u001b[38;5;124m\"\u001b[39m\u001b[38;5;124mCe coup n\u001b[39m\u001b[38;5;124m'\u001b[39m\u001b[38;5;124mest pas valide. Essayez-en un autre: \u001b[39m\u001b[38;5;124m\"\u001b[39m))\n",
      "File \u001b[0;32m/usr/local/lib/python3.9/dist-packages/ipykernel/kernelbase.py:1177\u001b[0m, in \u001b[0;36mKernel.raw_input\u001b[0;34m(self, prompt)\u001b[0m\n\u001b[1;32m   1173\u001b[0m \u001b[38;5;28;01mif\u001b[39;00m \u001b[38;5;129;01mnot\u001b[39;00m \u001b[38;5;28mself\u001b[39m\u001b[38;5;241m.\u001b[39m_allow_stdin:\n\u001b[1;32m   1174\u001b[0m     \u001b[38;5;28;01mraise\u001b[39;00m StdinNotImplementedError(\n\u001b[1;32m   1175\u001b[0m         \u001b[38;5;124m\"\u001b[39m\u001b[38;5;124mraw_input was called, but this frontend does not support input requests.\u001b[39m\u001b[38;5;124m\"\u001b[39m\n\u001b[1;32m   1176\u001b[0m     )\n\u001b[0;32m-> 1177\u001b[0m \u001b[38;5;28;01mreturn\u001b[39;00m \u001b[38;5;28;43mself\u001b[39;49m\u001b[38;5;241;43m.\u001b[39;49m\u001b[43m_input_request\u001b[49m\u001b[43m(\u001b[49m\n\u001b[1;32m   1178\u001b[0m \u001b[43m    \u001b[49m\u001b[38;5;28;43mstr\u001b[39;49m\u001b[43m(\u001b[49m\u001b[43mprompt\u001b[49m\u001b[43m)\u001b[49m\u001b[43m,\u001b[49m\n\u001b[1;32m   1179\u001b[0m \u001b[43m    \u001b[49m\u001b[38;5;28;43mself\u001b[39;49m\u001b[38;5;241;43m.\u001b[39;49m\u001b[43m_parent_ident\u001b[49m\u001b[43m[\u001b[49m\u001b[38;5;124;43m\"\u001b[39;49m\u001b[38;5;124;43mshell\u001b[39;49m\u001b[38;5;124;43m\"\u001b[39;49m\u001b[43m]\u001b[49m\u001b[43m,\u001b[49m\n\u001b[1;32m   1180\u001b[0m \u001b[43m    \u001b[49m\u001b[38;5;28;43mself\u001b[39;49m\u001b[38;5;241;43m.\u001b[39;49m\u001b[43mget_parent\u001b[49m\u001b[43m(\u001b[49m\u001b[38;5;124;43m\"\u001b[39;49m\u001b[38;5;124;43mshell\u001b[39;49m\u001b[38;5;124;43m\"\u001b[39;49m\u001b[43m)\u001b[49m\u001b[43m,\u001b[49m\n\u001b[1;32m   1181\u001b[0m \u001b[43m    \u001b[49m\u001b[43mpassword\u001b[49m\u001b[38;5;241;43m=\u001b[39;49m\u001b[38;5;28;43;01mFalse\u001b[39;49;00m\u001b[43m,\u001b[49m\n\u001b[1;32m   1182\u001b[0m \u001b[43m\u001b[49m\u001b[43m)\u001b[49m\n",
      "File \u001b[0;32m/usr/local/lib/python3.9/dist-packages/ipykernel/kernelbase.py:1219\u001b[0m, in \u001b[0;36mKernel._input_request\u001b[0;34m(self, prompt, ident, parent, password)\u001b[0m\n\u001b[1;32m   1216\u001b[0m             \u001b[38;5;28;01mbreak\u001b[39;00m\n\u001b[1;32m   1217\u001b[0m \u001b[38;5;28;01mexcept\u001b[39;00m \u001b[38;5;167;01mKeyboardInterrupt\u001b[39;00m:\n\u001b[1;32m   1218\u001b[0m     \u001b[38;5;66;03m# re-raise KeyboardInterrupt, to truncate traceback\u001b[39;00m\n\u001b[0;32m-> 1219\u001b[0m     \u001b[38;5;28;01mraise\u001b[39;00m \u001b[38;5;167;01mKeyboardInterrupt\u001b[39;00m(\u001b[38;5;124m\"\u001b[39m\u001b[38;5;124mInterrupted by user\u001b[39m\u001b[38;5;124m\"\u001b[39m) \u001b[38;5;28;01mfrom\u001b[39;00m \u001b[38;5;28mNone\u001b[39m\n\u001b[1;32m   1220\u001b[0m \u001b[38;5;28;01mexcept\u001b[39;00m \u001b[38;5;167;01mException\u001b[39;00m:\n\u001b[1;32m   1221\u001b[0m     \u001b[38;5;28mself\u001b[39m\u001b[38;5;241m.\u001b[39mlog\u001b[38;5;241m.\u001b[39mwarning(\u001b[38;5;124m\"\u001b[39m\u001b[38;5;124mInvalid Message:\u001b[39m\u001b[38;5;124m\"\u001b[39m, exc_info\u001b[38;5;241m=\u001b[39m\u001b[38;5;28;01mTrue\u001b[39;00m)\n",
      "\u001b[0;31mKeyboardInterrupt\u001b[0m: Interrupted by user"
     ]
    }
   ],
   "source": [
    "partie_aleatoire('SUD',4,2)"
   ]
  },
  {
   "cell_type": "markdown",
   "metadata": {},
   "source": [
    "## Joueur artificiel simple"
   ]
  },
  {
   "cell_type": "markdown",
   "metadata": {},
   "source": [
    "On considère la fonction d'évaluation suivante de la position $P$ :\n",
    "$$f(P) = \\left.\n",
    "  \\begin{array}{ll}\n",
    "        +99      & \\mbox{si } P \\mbox{ est gagnée par sud} \\\\\n",
    "        -99      & \\mbox{si } P \\mbox{ est gagnée par nord} \\\\\n",
    "        (2f_g(P,sud) + f_{12}(P,nord)) - (2f_g(P,nord) + f_{12}(P,sud))& \\mbox{sinon }\n",
    "   \\end{array} \\right.$$\n",
    "\n",
    "avec\n",
    "- $f_g(P,c)$ : nombre de graines déjà gagnées par le camp $c$ dans la position $P$\n",
    "- $f_{12}(P,c)$ : nombre de cases du camp $c$ contenant 1 ou 2 graines, dans la position $P$.\n"
   ]
  },
  {
   "cell_type": "markdown",
   "metadata": {},
   "source": [
    "<font color=\"RED\" size=\"+1\">**[Q]**</font> Ecrire la fonction <tt>evalue(position)</tt> qui rend la valeur de l'évaluation de la position obtenue en utilisant la fonction $f$."
   ]
  },
  {
   "cell_type": "code",
   "execution_count": 44,
   "metadata": {},
   "outputs": [],
   "source": [
    "def f_12(position, c):\n",
    "    nb_12 = 0\n",
    "    plateau = getPlateau(position, c)\n",
    "    return sum([1 for case in plateau if case == 1 or case == 2])\n",
    "\n",
    "def f_g(position, c):\n",
    "    return position['gain'][c]"
   ]
  },
  {
   "cell_type": "code",
   "execution_count": 45,
   "metadata": {},
   "outputs": [],
   "source": [
    "def evalue(position):\n",
    "    if est_terminale(position):\n",
    "        gagnant = raison_terminal(position)\n",
    "        if gagnant == \"PERSONNE\":\n",
    "            #JE SAIS PAS QUOI FAIRE ICI\n",
    "            return\n",
    "        elif gagnant == 'SUD':\n",
    "            return 99\n",
    "        else :\n",
    "            return -99\n",
    "    return (2*f_g(position, 'SUD')+f_12(position, 'NORD')) - (2*f_g(position, 'NORD')+f_12(position, 'SUD'))\n"
   ]
  },
  {
   "cell_type": "markdown",
   "metadata": {},
   "source": [
    "<font color=\"RED\" size=\"+1\">**[Q]**</font> Ecrire la fonction <tt>minimax(position,prof)</tt> qui, pour la position donnée, retourne un tuple Python dont le premier terme correspond au meilleur coup à jouer trouvé par l'application de l'algorithme du minimax à une profondeur <tt>prof</tt>, et le deuxième terme correspond à l'évaluation de la position obtenue pour ce coup."
   ]
  },
  {
   "cell_type": "code",
   "execution_count": 46,
   "metadata": {},
   "outputs": [
    {
     "name": "stdout",
     "output_type": "stream",
     "text": [
      "Plus grand entier :  9223372036854775807\n"
     ]
    }
   ],
   "source": [
    "# Rappel:\n",
    "import sys\n",
    "print(\"Plus grand entier : \",sys.maxsize)"
   ]
  },
  {
   "cell_type": "code",
   "execution_count": 108,
   "metadata": {},
   "outputs": [],
   "source": [
    "def minimax(position, prof):\n",
    "    \"\"\" Retourne un tuple python avec deux champs : 'coup' et 'valeur', avec : \n",
    "        coup : le meilleur coup à jouer par l'application de l'algorithme \n",
    "                Minimax à une profondeur 'prof' à la position 'position',\n",
    "        valeur : l'évaluation de la position obtenue pour ce coup.\n",
    "    \"\"\"\n",
    "    \n",
    "    if prof == 0 or est_terminale(position):\n",
    "        return genere_un_coup(position)\n",
    "    valMax = -sys.maxsize\n",
    "    for coup in coups_possibles(position):\n",
    "        pos_copy = aw.duplique(position)                          \n",
    "        pos_copy = aw.joue_un_coup(pos_copy, coup)                      \n",
    "        valeur = minimax_rec(pos_copy, prof)                          \n",
    "        if valeur > valMax:                                     \n",
    "            valMax = valeur                                      \n",
    "            bestCoup = coup                                         \n",
    "    \n",
    "    \n",
    "    return bestCoup\n",
    "\n",
    "def minimax_rec(position, prof):\n",
    "    \n",
    "    if prof == 0 or est_terminale(position):\n",
    "        return evalue(position)\n",
    "    valMax = -sys.maxsize\n",
    "    for coup in coups_possibles(position):\n",
    "        pos_copy = aw.duplique(position)                          \n",
    "        pos_copy = aw.joue_un_coup(pos_copy, coup)                      \n",
    "        valeur = minimax_rec(pos_copy, prof-1)                          \n",
    "        if valeur > valMax:                                     \n",
    "            valMax = valeur                                      \n",
    "            bestCoup = coup                                         \n",
    "\n",
    "    return valMax"
   ]
  },
  {
   "cell_type": "markdown",
   "metadata": {},
   "source": [
    "<font color=\"RED\" size=\"+1\">**[Q]**</font> Ecrire la fonction <tt>partie_minimax(campCPU,taille=6,nb_graines=4,prof=2)</tt> permettant à un joueur humain de jouer contre l'ordinateur, celui-ci trouvant ses coups à l'aide de l'algorithme minimax, utilisé à une profondeur <tt>prof</tt> (par défaut 2). L'argument <tt>campCPU</tt> donne le camp que doit gérer l'ordinateur (<tt>'SUD'</tt> ou <tt>'NORD'</tt>). L'argument <tt>taille</tt> donne la dimension du plateau de jeu en nombre de colonnes et l'argument <tt>nb_graines</tt> donne le nombre de graines dans chaque case au départ.\n"
   ]
  },
  {
   "cell_type": "code",
   "execution_count": 109,
   "metadata": {},
   "outputs": [],
   "source": [
    "def partie_minimax(campCPU, taille=6, nb_graines=4, prof=2, affichage=0):\n",
    "    print(\"QUE LA PARTIE COMMENCE!\")\n",
    "    maPosition = aw.position_initiale(taille, nb_graines)\n",
    "    if affichage:\n",
    "        aw.affichage(maPosition)\n",
    "    joueurs = {}\n",
    "    if campCPU == 'SUD':\n",
    "        joueurs['SUD'] = \"ordinateur\"\n",
    "        joueurs['NORD'] = \"humain\"\n",
    "    else:\n",
    "        joueurs['NORD'] = \"ordinateur\"\n",
    "        joueurs['SUD'] = \"humain\"\n",
    "        \n",
    "    while not est_terminale(maPosition):\n",
    "        print(\"--------------------------------------------\")\n",
    "        if joueurs[maPosition['trait']] == 'humain':\n",
    "            coup = input_coup(maPosition)\n",
    "        else : \n",
    "            coup = minimax(maPosition, prof)[0]\n",
    "            print(\"Je joue le coup:\", coup)\n",
    "\n",
    "        maPosition = aw.joue_un_coup(maPosition, coup)\n",
    "        if affichage:\n",
    "            aw.affichage(maPosition)\n",
    "        print(\"--------------------------------------------\")\n",
    "    \n",
    "    gagnant = raison_terminal(maPosition)\n",
    "    if  gagnant == 'PERSONNE':\n",
    "        print('Il n\\'a plus de coups possibles, la partie est terminée.')\n",
    "    else :\n",
    "        print(\"L'\",joueurs[gagnant], \"a gagné la partie !!\")\n",
    "              \n",
    "    return \n"
   ]
  },
  {
   "cell_type": "code",
   "execution_count": 103,
   "metadata": {
    "scrolled": false
   },
   "outputs": [],
   "source": [
    "# ------------------------- TEST\n",
    "#maPosition = aw.position_initiale(6)\n",
    "#maPosition2 = aw.joue_un_coup(maPosition,1) # SUD joue\n",
    "#maPosition2 = aw.joue_un_coup(maPosition2,1) # NORD joue\n",
    "#maPosition2 = aw.joue_un_coup(maPosition2,2) # SUD joue\n",
    "#maPosition2 = aw.joue_un_coup(maPosition2,4) # NORD joue\n",
    "#maPosition2 = aw.joue_un_coup(maPosition2,3) # SUD joue\n",
    "#maPosition2 = aw.joue_un_coup(maPosition2,2) # NORD joue\n",
    "#maPosition2 = aw.joue_un_coup(maPosition2,5) # SUD joue\n",
    "#aw.affichage(maPosition2)\n",
    "\n",
    "# --------\n",
    "#partie_humains(3,2)\n",
    "#partie_aleatoire(\"SUD\",5,3)\n",
    "#print(\"*************************\\n********* Partie minimax: \");\n",
    "\n",
    "# decommenter la ligne suivante:\n",
    "#partie_minimax(\"SUD\",taille=6,nb_graines=4,prof=3)"
   ]
  },
  {
   "cell_type": "markdown",
   "metadata": {},
   "source": [
    "## Joueur artificiel élaboré"
   ]
  },
  {
   "cell_type": "markdown",
   "metadata": {},
   "source": [
    "<font color=\"RED\" size=\"+1\">**[Q]**</font> Ecrire la fonction <code>alphabeta(campCPU,taille=6,nb_graines=4,prof=2,alpha=-sys.maxsize,beta=sys.maxsize)</code> qui, pour la position donnée, retourne le tuple dont le premier élément correspond au meilleur coup à jouer trouvé par l'application de l'algorithme du alpha-bêta à une profondeur <code>prof</code>, avec les valeurs <code>alpha</code> et <code>beta</code> comme valeurs initiales.\n"
   ]
  },
  {
   "cell_type": "code",
   "execution_count": 50,
   "metadata": {},
   "outputs": [],
   "source": [
    "def alphabeta(position,prof=2,alpha=-sys.maxsize,beta=sys.maxsize):\n",
    "    if prof == 0 or est_terminale(position):\n",
    "        return evalue(position)\n",
    "    \n",
    "    coups = coups_possibles(position) \n",
    "    bestCoup = coups[0]\n",
    "    if position['trait'] == 'SUD' : #maximisation\n",
    "        i = 0\n",
    "        while i<len(coups) and alpha<beta:\n",
    "            pos_copy = aw.duplique(position)\n",
    "            pos_copy = aw.joue_un_coup(pos_copy, coups[i])\n",
    "            valeur = alphabeta(pos_copy, prof-1, alpha, beta)\n",
    "            if type(valeur) is not int:\n",
    "                valeur = valeur[1]\n",
    "            if valeur>alpha:\n",
    "                alpha = valeur\n",
    "                bestCoup = coups[i]\n",
    "            i += 1\n",
    "        return bestCoup, alpha\n",
    "    else:\n",
    "        i = 0\n",
    "        while i<len(coups) and alpha<beta:\n",
    "            pos_copy = aw.duplique(position)\n",
    "            pos_copy = aw.joue_un_coup(pos_copy, coups[i])\n",
    "            valeur = alphabeta(pos_copy, prof-1, alpha, beta)\n",
    "            if type(valeur) is not int:\n",
    "                valeur = valeur[1]\n",
    "            if valeur<beta:\n",
    "                beta = valeur\n",
    "                bestCoup = coups[i]\n",
    "            i += 1\n",
    "        return bestCoup, beta\n",
    "    \n"
   ]
  },
  {
   "cell_type": "markdown",
   "metadata": {},
   "source": [
    "<font color=\"RED\" size=\"+1\">**[Q]**</font> Ecrire la fonction <code>partie_alphabeta(campCPU,taille=6,nb_graines=4,prof=2)</code> permettant à un joueur  humain de jouer contre l'ordinateur, celui-ci trouvant ses coups à l'aide de\n",
    "  l'algorithme alpha-bêta, utilisé à une profondeur <code>prof</code>. L'argument <code>campCPU</code>\n",
    "  donne le camp que doit gérer l'ordinateur (<code>'SUD'</code> ou <code>'NORD'</code>). L'argument <tt>taille</tt> donne la dimension du plateau de jeu en nombre de colonnes.\n"
   ]
  },
  {
   "cell_type": "code",
   "execution_count": 51,
   "metadata": {},
   "outputs": [],
   "source": [
    "def partie_alphabeta(campCPU,taille=6,nb_graines=4,prof=2, affichage=0):\n",
    "    print(\"QUE LA PARTIE COMMENCE!\")\n",
    "    maPosition = aw.position_initiale(taille, nb_graines)\n",
    "    if affichage:\n",
    "        aw.affichage(maPosition)\n",
    "    joueurs = {}\n",
    "    if campCPU == 'SUD':\n",
    "        joueurs['SUD'] = \"ordinateur\"\n",
    "        joueurs['NORD'] = \"humain\"\n",
    "    else:\n",
    "        joueurs['NORD'] = \"ordinateur\"\n",
    "        joueurs['SUD'] = \"humain\"\n",
    "        \n",
    "    while not est_terminale(maPosition):\n",
    "        print(\"--------------------------------------------\")\n",
    "        if joueurs[maPosition['trait']] == 'humain':\n",
    "            coup = input_coup(maPosition)\n",
    "        else : \n",
    "            coup = alphabeta(maPosition, prof)[0]\n",
    "            print(\"Je joue le coup:\", coup)\n",
    "\n",
    "        maPosition = aw.joue_un_coup(maPosition, coup)\n",
    "        if affichage:\n",
    "            aw.affichage(maPosition)\n",
    "        print(\"--------------------------------------------\")\n",
    "    \n",
    "    gagnant = raison_terminal(maPosition)\n",
    "    if  gagnant == 'PERSONNE':\n",
    "        print('Il n\\'a plus de coups possibles, la partie est terminée.')\n",
    "    else :\n",
    "        print(\"L'\",joueurs[gagnant], \"a gagné la partie !!\")\n",
    "              \n",
    "    return "
   ]
  },
  {
   "cell_type": "code",
   "execution_count": 64,
   "metadata": {},
   "outputs": [
    {
     "name": "stdout",
     "output_type": "stream",
     "text": [
      "QUE LA PARTIE COMMENCE!\n",
      "* * * * * * * * * * * * * * * * * * * *\n",
      "\t\tNORD (prises: 0)\n",
      "< - - - - - - - - - - - - - - -\n",
      "colonnes:\t 1 \t 2 \t 3 \t 4 \t 5 \t 6 \n",
      "        \t[4]\t[4]\t[4]\t[4]\t[4]\t[4]\n",
      "        \t[4]\t[4]\t[4]\t[4]\t[4]\t[4]\n",
      "colonnes:\t 1 \t 2 \t 3 \t 4 \t 5 \t 6 \n",
      "\n",
      "- - - - - - - - - - - - - - - >\n",
      "\t\tSUD (prises: 0)\n",
      "\n",
      "-> camp au trait: SUD\n",
      "\n",
      "--------------------------------------------\n",
      "Je joue le coup: 1\n",
      "* * * * * * * * * * * * * * * * * * * *\n",
      "\t\tNORD (prises: 0)\n",
      "< - - - - - - - - - - - - - - -\n",
      "colonnes:\t 1 \t 2 \t 3 \t 4 \t 5 \t 6 \n",
      "        \t[4]\t[4]\t[4]\t[4]\t[4]\t[4]\n",
      "        \t[0]\t[5]\t[5]\t[5]\t[5]\t[4]\n",
      "colonnes:\t 1 \t 2 \t 3 \t 4 \t 5 \t 6 \n",
      "\n",
      "- - - - - - - - - - - - - - - >\n",
      "\t\tSUD (prises: 0)\n",
      "\n",
      "-> camp au trait: NORD\n",
      "\n",
      "--------------------------------------------\n",
      "--------------------------------------------\n"
     ]
    },
    {
     "ename": "KeyboardInterrupt",
     "evalue": "Interrupted by user",
     "output_type": "error",
     "traceback": [
      "\u001b[0;31m---------------------------------------------------------------------------\u001b[0m",
      "\u001b[0;31mKeyboardInterrupt\u001b[0m                         Traceback (most recent call last)",
      "Input \u001b[0;32mIn [64]\u001b[0m, in \u001b[0;36m<cell line: 1>\u001b[0;34m()\u001b[0m\n\u001b[0;32m----> 1\u001b[0m \u001b[43mpartie_alphabeta\u001b[49m\u001b[43m(\u001b[49m\u001b[38;5;124;43m\"\u001b[39;49m\u001b[38;5;124;43mSUD\u001b[39;49m\u001b[38;5;124;43m\"\u001b[39;49m\u001b[43m,\u001b[49m\u001b[43mtaille\u001b[49m\u001b[38;5;241;43m=\u001b[39;49m\u001b[38;5;241;43m6\u001b[39;49m\u001b[43m,\u001b[49m\u001b[43mnb_graines\u001b[49m\u001b[38;5;241;43m=\u001b[39;49m\u001b[38;5;241;43m4\u001b[39;49m\u001b[43m,\u001b[49m\u001b[43mprof\u001b[49m\u001b[38;5;241;43m=\u001b[39;49m\u001b[38;5;241;43m3\u001b[39;49m\u001b[43m,\u001b[49m\u001b[43maffichage\u001b[49m\u001b[38;5;241;43m=\u001b[39;49m\u001b[38;5;241;43m1\u001b[39;49m\u001b[43m)\u001b[49m\n",
      "Input \u001b[0;32mIn [51]\u001b[0m, in \u001b[0;36mpartie_alphabeta\u001b[0;34m(campCPU, taille, nb_graines, prof, affichage)\u001b[0m\n\u001b[1;32m     15\u001b[0m \u001b[38;5;28mprint\u001b[39m(\u001b[38;5;124m\"\u001b[39m\u001b[38;5;124m--------------------------------------------\u001b[39m\u001b[38;5;124m\"\u001b[39m)\n\u001b[1;32m     16\u001b[0m \u001b[38;5;28;01mif\u001b[39;00m joueurs[maPosition[\u001b[38;5;124m'\u001b[39m\u001b[38;5;124mtrait\u001b[39m\u001b[38;5;124m'\u001b[39m]] \u001b[38;5;241m==\u001b[39m \u001b[38;5;124m'\u001b[39m\u001b[38;5;124mhumain\u001b[39m\u001b[38;5;124m'\u001b[39m:\n\u001b[0;32m---> 17\u001b[0m     coup \u001b[38;5;241m=\u001b[39m \u001b[43minput_coup\u001b[49m\u001b[43m(\u001b[49m\u001b[43mmaPosition\u001b[49m\u001b[43m)\u001b[49m\n\u001b[1;32m     18\u001b[0m \u001b[38;5;28;01melse\u001b[39;00m : \n\u001b[1;32m     19\u001b[0m     coup \u001b[38;5;241m=\u001b[39m alphabeta(maPosition, prof)[\u001b[38;5;241m0\u001b[39m]\n",
      "Input \u001b[0;32mIn [36]\u001b[0m, in \u001b[0;36minput_coup\u001b[0;34m(position)\u001b[0m\n\u001b[1;32m      1\u001b[0m \u001b[38;5;28;01mdef\u001b[39;00m \u001b[38;5;21minput_coup\u001b[39m(position):\n\u001b[0;32m----> 2\u001b[0m     coup \u001b[38;5;241m=\u001b[39m \u001b[38;5;28mint\u001b[39m(\u001b[38;5;28;43minput\u001b[39;49m\u001b[43m(\u001b[49m\u001b[38;5;124;43m\"\u001b[39;49m\u001b[38;5;124;43mEntrer votre coup : \u001b[39;49m\u001b[38;5;124;43m\"\u001b[39;49m\u001b[43m)\u001b[49m)\n\u001b[1;32m      3\u001b[0m     \u001b[38;5;28;01mwhile\u001b[39;00m \u001b[38;5;129;01mnot\u001b[39;00m est_valide(position, coup):\n\u001b[1;32m      4\u001b[0m         coup \u001b[38;5;241m=\u001b[39m \u001b[38;5;28mint\u001b[39m(\u001b[38;5;28minput\u001b[39m(\u001b[38;5;124m\"\u001b[39m\u001b[38;5;124mCe coup n\u001b[39m\u001b[38;5;124m'\u001b[39m\u001b[38;5;124mest pas valide. Essayez-en un autre: \u001b[39m\u001b[38;5;124m\"\u001b[39m))\n",
      "File \u001b[0;32m/usr/local/lib/python3.9/dist-packages/ipykernel/kernelbase.py:1177\u001b[0m, in \u001b[0;36mKernel.raw_input\u001b[0;34m(self, prompt)\u001b[0m\n\u001b[1;32m   1173\u001b[0m \u001b[38;5;28;01mif\u001b[39;00m \u001b[38;5;129;01mnot\u001b[39;00m \u001b[38;5;28mself\u001b[39m\u001b[38;5;241m.\u001b[39m_allow_stdin:\n\u001b[1;32m   1174\u001b[0m     \u001b[38;5;28;01mraise\u001b[39;00m StdinNotImplementedError(\n\u001b[1;32m   1175\u001b[0m         \u001b[38;5;124m\"\u001b[39m\u001b[38;5;124mraw_input was called, but this frontend does not support input requests.\u001b[39m\u001b[38;5;124m\"\u001b[39m\n\u001b[1;32m   1176\u001b[0m     )\n\u001b[0;32m-> 1177\u001b[0m \u001b[38;5;28;01mreturn\u001b[39;00m \u001b[38;5;28;43mself\u001b[39;49m\u001b[38;5;241;43m.\u001b[39;49m\u001b[43m_input_request\u001b[49m\u001b[43m(\u001b[49m\n\u001b[1;32m   1178\u001b[0m \u001b[43m    \u001b[49m\u001b[38;5;28;43mstr\u001b[39;49m\u001b[43m(\u001b[49m\u001b[43mprompt\u001b[49m\u001b[43m)\u001b[49m\u001b[43m,\u001b[49m\n\u001b[1;32m   1179\u001b[0m \u001b[43m    \u001b[49m\u001b[38;5;28;43mself\u001b[39;49m\u001b[38;5;241;43m.\u001b[39;49m\u001b[43m_parent_ident\u001b[49m\u001b[43m[\u001b[49m\u001b[38;5;124;43m\"\u001b[39;49m\u001b[38;5;124;43mshell\u001b[39;49m\u001b[38;5;124;43m\"\u001b[39;49m\u001b[43m]\u001b[49m\u001b[43m,\u001b[49m\n\u001b[1;32m   1180\u001b[0m \u001b[43m    \u001b[49m\u001b[38;5;28;43mself\u001b[39;49m\u001b[38;5;241;43m.\u001b[39;49m\u001b[43mget_parent\u001b[49m\u001b[43m(\u001b[49m\u001b[38;5;124;43m\"\u001b[39;49m\u001b[38;5;124;43mshell\u001b[39;49m\u001b[38;5;124;43m\"\u001b[39;49m\u001b[43m)\u001b[49m\u001b[43m,\u001b[49m\n\u001b[1;32m   1181\u001b[0m \u001b[43m    \u001b[49m\u001b[43mpassword\u001b[49m\u001b[38;5;241;43m=\u001b[39;49m\u001b[38;5;28;43;01mFalse\u001b[39;49;00m\u001b[43m,\u001b[49m\n\u001b[1;32m   1182\u001b[0m \u001b[43m\u001b[49m\u001b[43m)\u001b[49m\n",
      "File \u001b[0;32m/usr/local/lib/python3.9/dist-packages/ipykernel/kernelbase.py:1219\u001b[0m, in \u001b[0;36mKernel._input_request\u001b[0;34m(self, prompt, ident, parent, password)\u001b[0m\n\u001b[1;32m   1216\u001b[0m             \u001b[38;5;28;01mbreak\u001b[39;00m\n\u001b[1;32m   1217\u001b[0m \u001b[38;5;28;01mexcept\u001b[39;00m \u001b[38;5;167;01mKeyboardInterrupt\u001b[39;00m:\n\u001b[1;32m   1218\u001b[0m     \u001b[38;5;66;03m# re-raise KeyboardInterrupt, to truncate traceback\u001b[39;00m\n\u001b[0;32m-> 1219\u001b[0m     \u001b[38;5;28;01mraise\u001b[39;00m \u001b[38;5;167;01mKeyboardInterrupt\u001b[39;00m(\u001b[38;5;124m\"\u001b[39m\u001b[38;5;124mInterrupted by user\u001b[39m\u001b[38;5;124m\"\u001b[39m) \u001b[38;5;28;01mfrom\u001b[39;00m \u001b[38;5;28mNone\u001b[39m\n\u001b[1;32m   1220\u001b[0m \u001b[38;5;28;01mexcept\u001b[39;00m \u001b[38;5;167;01mException\u001b[39;00m:\n\u001b[1;32m   1221\u001b[0m     \u001b[38;5;28mself\u001b[39m\u001b[38;5;241m.\u001b[39mlog\u001b[38;5;241m.\u001b[39mwarning(\u001b[38;5;124m\"\u001b[39m\u001b[38;5;124mInvalid Message:\u001b[39m\u001b[38;5;124m\"\u001b[39m, exc_info\u001b[38;5;241m=\u001b[39m\u001b[38;5;28;01mTrue\u001b[39;00m)\n",
      "\u001b[0;31mKeyboardInterrupt\u001b[0m: Interrupted by user"
     ]
    }
   ],
   "source": [
    "partie_alphabeta(\"SUD\",taille=6,nb_graines=4,prof=3,affichage=1)"
   ]
  },
  {
   "cell_type": "markdown",
   "metadata": {},
   "source": [
    "## Pour aller plus loin..."
   ]
  },
  {
   "cell_type": "markdown",
   "metadata": {},
   "source": [
    "Ne pas hésiter à ajouter des fonctionnalités ou des améliorations à votre programme.\n",
    "Par exemple :\n",
    "- une interface graphique pour afficher le tablier, saisir les coups,...\n",
    "- proposer une nouvelle fonction d'évaluation plus efficace que celle donnée dans\n",
    "  l'exercice 4 du TD. Tester le programme en le faisant jouer contre lui même un grand nombre de\n",
    "  fois (automatiquement).\n",
    "- ajouter la règle suivante: un coup qui retire toutes les graines du camp de\n",
    "  l'adversaire peut être quand même joué mais dans ce cas, aucune prise n'est effectuée.\n",
    "- toute autre amélioration que vous pouvez envisager.\n",
    "\n"
   ]
  },
  {
   "cell_type": "code",
   "execution_count": 94,
   "metadata": {},
   "outputs": [],
   "source": [
    "def casPlusCoups(position):\n",
    "    reste = pionsLeft(position)\n",
    "    if maPosition['trait'] == 'SUD':\n",
    "        maPosition['gain']['NORD']+= reste\n",
    "    else:\n",
    "        maPosition['gain']['SUD']+= reste\n",
    "        \n",
    "    if maPosition['gain']['NORD']<=maPosition['gain']['SUD']:\n",
    "        return 'SUD'\n",
    "    else:\n",
    "        return 'NORD'"
   ]
  },
  {
   "cell_type": "code",
   "execution_count": 105,
   "metadata": {},
   "outputs": [],
   "source": [
    "def partie_2_strategies(strat1, strat2, prof1=2, prof2=2, taille=6,nb_graines=4,affichage=0):\n",
    "    if affichage:\n",
    "        print(\"QUE LA PARTIE COMMENCE!\")\n",
    "    maPosition = aw.position_initiale(taille, nb_graines)\n",
    "    if affichage:\n",
    "        aw.affichage(maPosition)    \n",
    "        \n",
    "    while not est_terminale(maPosition):\n",
    "        if affichage:\n",
    "            print(\"--------------------------------------------\")\n",
    "        if maPosition['trait'] == 'SUD':\n",
    "            if strat1 == 'minimax':\n",
    "                coup = minimax(maPosition, prof1)\n",
    "            elif strat1 == 'alphabeta':\n",
    "                #print(\"hello sud alpha\")\n",
    "                coup = alphabeta(maPosition, prof1)[0]\n",
    "            elif strat1 == \"aleatoire\":\n",
    "                coup = genere_un_coup(maPosition)\n",
    "            else :\n",
    "                print(\"Choisissez une stratégie parmi: aléatoire, minimax, alphabeta.\")\n",
    "            if affichage:\n",
    "                print(\"Le SUD joue le coup:\", coup)\n",
    "\n",
    "            \n",
    "        if maPosition['trait'] == 'NORD':\n",
    "            if strat2 == 'minimax':\n",
    "                coup = minimax(maPosition, prof2)\n",
    "            elif strat2 == 'alphabeta':\n",
    "                #print(\"hello nord alpha\")\n",
    "                coup = alphabeta(maPosition, prof2)[0]\n",
    "            elif strat2 == \"aleatoire\":\n",
    "                coup = genere_un_coup(maPosition)\n",
    "            else :\n",
    "                print(\"Choisissez une stratégie parmi: aléatoire, minimax, alphabeta.\")\n",
    "            if affichage:\n",
    "                print(\"Le NORD joue le coup:\", coup)\n",
    "\n",
    "\n",
    "        maPosition = aw.joue_un_coup(maPosition, coup)\n",
    "        if affichage:\n",
    "            aw.affichage(maPosition)\n",
    "            print(\"--------------------------------------------\")\n",
    "    \n",
    "    gagnant = raison_terminal(maPosition)\n",
    "    if  gagnant == 'PERSONNE':\n",
    "        if affichage:\n",
    "            print('Il n\\'a plus de coups possibles.')\n",
    "        gagnant = casPlusCoups(maPosition)\n",
    "    if affichage:\n",
    "        print(\"Le\",gagnant, \"a gagné la partie !!\")\n",
    "              \n",
    "    return gagnant"
   ]
  },
  {
   "cell_type": "code",
   "execution_count": 106,
   "metadata": {},
   "outputs": [
    {
     "data": {
      "text/plain": [
       "'NORD'"
      ]
     },
     "execution_count": 106,
     "metadata": {},
     "output_type": "execute_result"
    }
   ],
   "source": [
    "partie_2_strategies('minimax', 'alphabeta', 2, 2, 6,4)"
   ]
  },
  {
   "cell_type": "markdown",
   "metadata": {},
   "source": [
    "#### Minimax VS. Aléatoire\n",
    "On va faire varier la profondeur du minimax"
   ]
  },
  {
   "cell_type": "code",
   "execution_count": 107,
   "metadata": {},
   "outputs": [
    {
     "ename": "TypeError",
     "evalue": "'>' not supported between instances of 'NoneType' and 'int'",
     "output_type": "error",
     "traceback": [
      "\u001b[0;31m---------------------------------------------------------------------------\u001b[0m",
      "\u001b[0;31mTypeError\u001b[0m                                 Traceback (most recent call last)",
      "Input \u001b[0;32mIn [107]\u001b[0m, in \u001b[0;36m<cell line: 4>\u001b[0;34m()\u001b[0m\n\u001b[1;32m      4\u001b[0m \u001b[38;5;28;01mfor\u001b[39;00m depth \u001b[38;5;129;01min\u001b[39;00m depths:\n\u001b[1;32m      5\u001b[0m     \u001b[38;5;28;01mfor\u001b[39;00m i \u001b[38;5;129;01min\u001b[39;00m \u001b[38;5;28mrange\u001b[39m(\u001b[38;5;241m20\u001b[39m):\n\u001b[0;32m----> 6\u001b[0m         gagnant\u001b[38;5;241m=\u001b[39m\u001b[43mpartie_2_strategies\u001b[49m\u001b[43m(\u001b[49m\u001b[38;5;124;43m'\u001b[39;49m\u001b[38;5;124;43mminimax\u001b[39;49m\u001b[38;5;124;43m'\u001b[39;49m\u001b[43m,\u001b[49m\u001b[43m \u001b[49m\u001b[38;5;124;43m'\u001b[39;49m\u001b[38;5;124;43maleatoire\u001b[39;49m\u001b[38;5;124;43m'\u001b[39;49m\u001b[43m,\u001b[49m\u001b[43m \u001b[49m\u001b[43mdepth\u001b[49m\u001b[43m,\u001b[49m\u001b[43m \u001b[49m\u001b[38;5;241;43m0\u001b[39;49m\u001b[43m,\u001b[49m\u001b[43m \u001b[49m\u001b[38;5;241;43m6\u001b[39;49m\u001b[43m,\u001b[49m\u001b[38;5;241;43m4\u001b[39;49m\u001b[43m)\u001b[49m\n\u001b[1;32m      7\u001b[0m         \u001b[38;5;28;01mif\u001b[39;00m gagnant\u001b[38;5;241m==\u001b[39m\u001b[38;5;124m'\u001b[39m\u001b[38;5;124mSUD\u001b[39m\u001b[38;5;124m'\u001b[39m:\n\u001b[1;32m      8\u001b[0m             wins[w][\u001b[38;5;241m0\u001b[39m]\u001b[38;5;241m+\u001b[39m\u001b[38;5;241m=\u001b[39m\u001b[38;5;241m1\u001b[39m\n",
      "Input \u001b[0;32mIn [105]\u001b[0m, in \u001b[0;36mpartie_2_strategies\u001b[0;34m(strat1, strat2, prof1, prof2, taille, nb_graines, affichage)\u001b[0m\n\u001b[1;32m     11\u001b[0m \u001b[38;5;28;01mif\u001b[39;00m maPosition[\u001b[38;5;124m'\u001b[39m\u001b[38;5;124mtrait\u001b[39m\u001b[38;5;124m'\u001b[39m] \u001b[38;5;241m==\u001b[39m \u001b[38;5;124m'\u001b[39m\u001b[38;5;124mSUD\u001b[39m\u001b[38;5;124m'\u001b[39m:\n\u001b[1;32m     12\u001b[0m     \u001b[38;5;28;01mif\u001b[39;00m strat1 \u001b[38;5;241m==\u001b[39m \u001b[38;5;124m'\u001b[39m\u001b[38;5;124mminimax\u001b[39m\u001b[38;5;124m'\u001b[39m:\n\u001b[0;32m---> 13\u001b[0m         coup \u001b[38;5;241m=\u001b[39m \u001b[43mminimax\u001b[49m\u001b[43m(\u001b[49m\u001b[43mmaPosition\u001b[49m\u001b[43m,\u001b[49m\u001b[43m \u001b[49m\u001b[43mprof1\u001b[49m\u001b[43m)\u001b[49m\n\u001b[1;32m     14\u001b[0m     \u001b[38;5;28;01melif\u001b[39;00m strat1 \u001b[38;5;241m==\u001b[39m \u001b[38;5;124m'\u001b[39m\u001b[38;5;124malphabeta\u001b[39m\u001b[38;5;124m'\u001b[39m:\n\u001b[1;32m     15\u001b[0m         \u001b[38;5;66;03m#print(\"hello sud alpha\")\u001b[39;00m\n\u001b[1;32m     16\u001b[0m         coup \u001b[38;5;241m=\u001b[39m alphabeta(maPosition, prof1)[\u001b[38;5;241m0\u001b[39m]\n",
      "Input \u001b[0;32mIn [101]\u001b[0m, in \u001b[0;36mminimax\u001b[0;34m(position, prof)\u001b[0m\n\u001b[1;32m     12\u001b[0m pos_copy \u001b[38;5;241m=\u001b[39m aw\u001b[38;5;241m.\u001b[39mduplique(position)                          \n\u001b[1;32m     13\u001b[0m pos_copy \u001b[38;5;241m=\u001b[39m aw\u001b[38;5;241m.\u001b[39mjoue_un_coup(pos_copy, coup)                      \n\u001b[0;32m---> 14\u001b[0m valeur \u001b[38;5;241m=\u001b[39m \u001b[43mminimax_rec\u001b[49m\u001b[43m(\u001b[49m\u001b[43mpos_copy\u001b[49m\u001b[43m,\u001b[49m\u001b[43m \u001b[49m\u001b[43mprof\u001b[49m\u001b[43m)\u001b[49m                          \n\u001b[1;32m     15\u001b[0m \u001b[38;5;28;01mif\u001b[39;00m valeur \u001b[38;5;241m>\u001b[39m valMax:                                     \n\u001b[1;32m     16\u001b[0m     valMax \u001b[38;5;241m=\u001b[39m valeur                                      \n",
      "Input \u001b[0;32mIn [101]\u001b[0m, in \u001b[0;36mminimax_rec\u001b[0;34m(position, prof)\u001b[0m\n\u001b[1;32m     28\u001b[0m pos_copy \u001b[38;5;241m=\u001b[39m aw\u001b[38;5;241m.\u001b[39mduplique(position)                          \n\u001b[1;32m     29\u001b[0m pos_copy \u001b[38;5;241m=\u001b[39m aw\u001b[38;5;241m.\u001b[39mjoue_un_coup(pos_copy, coup)                      \n\u001b[0;32m---> 30\u001b[0m valeur \u001b[38;5;241m=\u001b[39m \u001b[43mminimax_rec\u001b[49m\u001b[43m(\u001b[49m\u001b[43mpos_copy\u001b[49m\u001b[43m,\u001b[49m\u001b[43m \u001b[49m\u001b[43mprof\u001b[49m\u001b[38;5;241;43m-\u001b[39;49m\u001b[38;5;241;43m1\u001b[39;49m\u001b[43m)\u001b[49m                          \n\u001b[1;32m     31\u001b[0m \u001b[38;5;28;01mif\u001b[39;00m valeur \u001b[38;5;241m>\u001b[39m valMax:                                     \n\u001b[1;32m     32\u001b[0m     valMax \u001b[38;5;241m=\u001b[39m valeur                                      \n",
      "Input \u001b[0;32mIn [101]\u001b[0m, in \u001b[0;36mminimax_rec\u001b[0;34m(position, prof)\u001b[0m\n\u001b[1;32m     29\u001b[0m pos_copy \u001b[38;5;241m=\u001b[39m aw\u001b[38;5;241m.\u001b[39mjoue_un_coup(pos_copy, coup)                      \n\u001b[1;32m     30\u001b[0m valeur \u001b[38;5;241m=\u001b[39m minimax_rec(pos_copy, prof\u001b[38;5;241m-\u001b[39m\u001b[38;5;241m1\u001b[39m)                          \n\u001b[0;32m---> 31\u001b[0m \u001b[38;5;28;01mif\u001b[39;00m \u001b[43mvaleur\u001b[49m\u001b[43m \u001b[49m\u001b[38;5;241;43m>\u001b[39;49m\u001b[43m \u001b[49m\u001b[43mvalMax\u001b[49m:                                     \n\u001b[1;32m     32\u001b[0m     valMax \u001b[38;5;241m=\u001b[39m valeur                                      \n\u001b[1;32m     33\u001b[0m     bestCoup \u001b[38;5;241m=\u001b[39m coup                                         \n",
      "\u001b[0;31mTypeError\u001b[0m: '>' not supported between instances of 'NoneType' and 'int'"
     ]
    }
   ],
   "source": [
    "depths = np.arange(1,11,2)\n",
    "wins = np.zeros((5,2)) #nombre de wins pour chaque profondeur \n",
    "w = 0\n",
    "for depth in depths:\n",
    "    for i in range(20):\n",
    "        gagnant=partie_2_strategies('minimax', 'aleatoire', depth, 0, 6,4)\n",
    "        if gagnant=='SUD':\n",
    "            wins[w][0]+=1\n",
    "        else:\n",
    "            wins[w][1]+=1\n",
    "            \n",
    "    w+=1\n",
    "\n",
    "plt.plot(depths, wins[:,0])"
   ]
  },
  {
   "cell_type": "markdown",
   "metadata": {},
   "source": [
    "#### Alphabeta VS. Aléatoire"
   ]
  },
  {
   "cell_type": "markdown",
   "metadata": {},
   "source": [
    "#### Minimax VS. Alphabeta"
   ]
  },
  {
   "cell_type": "code",
   "execution_count": null,
   "metadata": {},
   "outputs": [],
   "source": []
  },
  {
   "cell_type": "markdown",
   "metadata": {},
   "source": [
    "# Annexe : présentation du jeu d'Awélé\n",
    "\n",
    "L'Awélé est un jeu d'origine africaine qui se joue sur un plateau (ou tablier) où chacun des 2 joueurs (Sud et Nord) possède 6 cases.  Les règles de ce jeu  sont simples et facilement implémentables.\n",
    "\n",
    "Voir la page wikipédia (http://fr.wikipedia.org/wiki/Awalé) qui détaille les règles que nous utilisons ici.\n",
    "\n",
    "### Règles du jeu\n",
    "Dans la position de départ, toutes les cases sont remplies avec 4 graines.  Le joueur dont\n",
    "c'est le tour de jeu (on considère que le camp Sud débute toujours la partie.) choisit une de ses cases contenant des graines, et en retire toutes les graines qu'elle contient.  Il sème alors ces graines une par une dans les cases suivantes dans le sens inverse des aiguilles d'une montre.  Au cours de cette pose, s'il repasse sur la case qui contenait les graines au départ, il n'y dépose pas de graine.\n",
    "\n",
    "Si la dernière graine est semée dans une case de l'adversaire contenant 2 ou 3 graines après la pose, les graines dans cette case sont capturées par le joueur et elles sont alors retirées du jeu (elles sont mises dans le gain du joueur).  Dans ce cas, si l'avant-dernière case est aussi une case ennemie contenant 2 ou 3 graines, les graines en sont aussi capturées, et ainsi de suite tant que des prises sont possibles (toujours dans le camp ennemi).\n",
    "\n",
    "Il est à noter qu'un coup n'effectue pas forcément une prise, mais si une prise existe à l'issue d'un coup, elle doit obligatoirement être réalisée totalement.\n",
    "\n",
    "A l'issue du coup ainsi exécuté, il doit rester au moins une graine dans l'une des cases de l'adversaire (il ne faut pas ''affamer'' l'adversaire) sinon la position est considérée comme illégale et le coup ne peut pas être joué.\n",
    "\n",
    "Dès qu'un joueur a capturé 25 graines ou plus, il est déclaré vainqueur de la partie et le jeu s'arrête.\n",
    "\n",
    "Dans le cas où un joueur ne peut pas jouer, la partie s'arrête et toutes les graines restant sur le tablier sont capturées par son adversaire.  Dans ce cas, le joueur qui a capturé le plus de graines a gagné.\n",
    "\n",
    "### Représentation du tablier\n",
    "\n",
    "Le tablier est toujours représenté avec les cases de Sud en bas.  \n",
    "Les cases sont ordonnées et repérées par des chiffres, de 1 à 6, de la gauche vers la droite. Dans chaque case, on indique le nombre de graines qu'elle contient. Ainsi, le tablier de départ classique est donné ci-dessous:\n",
    "\n",
    "<p/>\n",
    "<table width=\"25%\">\n",
    "<tr>\n",
    "<td>    \n",
    "**NORD**<br>\n",
    "$\\begin{array}{|c|c|c|c|c|c|} \\hline\n",
    "      4 & 4 & 4 & 4 &\t4 & 4\\\\\n",
    "      \\hline\n",
    "      4 & 4 & 4 & 4 & 4 & 4\\\\\n",
    "      \\hline\n",
    "\\end{array}$<br>\n",
    "**SUD**<br>\n",
    "$\\begin{array}{cccccc} \n",
    "      1 & 2 & 3 & 4 & 5 & 6\\\\\n",
    "\\end{array}$\n",
    "</td>\n",
    "</tr>\n",
    "</table>\n",
    "\n",
    "Un coup est noté en donnant le camp qui joue ainsi que le numéro de la case qui est vidée.  Par exemple, $($SUD$, 2)$ si le camp Sud joue en prenant les graines de la deuxième case en partant de la gauche qui se trouve dans son camp. Ou alors, $($NORD$, 6)$ si le camp Nord joue en prenant les graines de la case numéro 6 qui se trouve dans son camp, c'est à dire la sixième case en partant de la gauche qui se trouve dans son camp, soit celle la plus en haut et à droite du tablier.\n",
    "\n",
    "\n",
    "### Exemple de coup avec prise de graines\n",
    "\n",
    "A partir de la position située à gauche dans la figure ci-dessous, Sud décide de jouer le coup $4$.  La position au centre de la figure montre la situation intermédiaire, suite au dépôt des $6$ graines dans les $6$ cases qui suivent la case $4$ dans l'ordre inverse des aiguilles d'une montre.\n",
    "\n",
    "<p />\n",
    "<table width=\"60%\">\n",
    "<tr>\n",
    "<td>Départ</td>\n",
    "<td>SUD a réparti les graines de $4$</td>\n",
    "<td>SUD retire les graines dans le camp NORD</td>\n",
    "</tr>\n",
    "<tr>\n",
    "<td>\n",
    "**NORD**<br>\n",
    "$\\begin{array}{|c|c|c|c|c|c|} \\hline\n",
    " & 2 & 1 & 2 & 1 & 1\\\\\n",
    "\\hline\n",
    "1 & & & {\\bf 6} & & 1\\\\\n",
    "     \\hline\n",
    "\\end{array}$<br>\n",
    "**SUD**\n",
    "</td>\n",
    "<td>\n",
    "**NORD**<br>\n",
    "$\\begin{array}{|c|c|c|c|c|c|} \\hline\n",
    "& 2 & {\\bf 2} & {\\bf 3} & {\\bf 2} & {\\bf 2}\\\\\n",
    "\\hline\n",
    "1 & & & & {\\bf 1} & {\\bf 2}\\\\\n",
    "      \\hline\n",
    "\\end{array}$<br>\n",
    "**SUD**\n",
    "</td>\n",
    "<td>\n",
    "**NORD**<br>\n",
    "$\\begin{array}{|c|c|c|c|c|c|} \\hline\n",
    "& 2 & & & & \\\\\n",
    "\\hline\n",
    "1 & & & & {\\bf 1} & {\\bf 2}\\\\\n",
    "      \\hline\n",
    "\\end{array}$<br>\n",
    "**SUD**\n",
    "</td>\n",
    "</tr>\n",
    "<tr>\n",
    "<td>\n",
    "$\\begin{array}{cccccc} \n",
    "      1 & 2 & 3 & 4 & 5 & 6\\\\\n",
    "\\end{array}$\n",
    "</td>\n",
    "<td>\n",
    "$\\begin{array}{cccccc} \n",
    "      1 & 2 & 3 & 4 & 5 & 6\\\\\n",
    "\\end{array}$\n",
    "</td>\n",
    "<td>\n",
    "$\\begin{array}{cccccc} \n",
    "      1 & 2 & 3 & 4 & 5 & 6\\\\\n",
    "\\end{array}$\n",
    "</td>\n",
    "</tr>\n",
    "\n",
    "</table>\n",
    "\n",
    "\n",
    "Comme la dernière case où une graine a été posée (la case $3$ du camp Nord) contient maintenant $2$ graines, celles-ci sont prises par Sud, ainsi que celles des cases $4$, $5$ et $6$ qui contiennent (en suivant cet ordre) $2$ ou $3$ graines.  Au total, avec ce coup, Sud prend $9$ graines.  A l'issue des prises réalisées, on obtient finalement la nouvelle position présentée à droite de la figure.  Maintenant, Nord n'a qu'une seule possibilité et doit jouer les graines de la case $2$."
   ]
  },
  {
   "cell_type": "code",
   "execution_count": null,
   "metadata": {},
   "outputs": [],
   "source": []
  },
  {
   "cell_type": "markdown",
   "metadata": {},
   "source": [
    "## Annexe : un peu de langage Python...\n",
    "\n",
    "### Documentation\n",
    "\n",
    "Quelques liens utiles pour se documenter sur le langage Python :\n",
    "-  tutorial: http://python.developpez.com/cours/\n",
    "- documentation officielle: https://docs.python.org/fr/3/\n",
    "\n",
    "### Quelques fonctions utiles\n",
    "\n",
    "- Saisie d'une valeur au clavier (noter que la fonction <code>input</code> retourne une chaîne de caractères) :\n",
    "    <pre>\n",
    "    saisie = input(\"Entrez un nombre :\")\n",
    "    </pre>\n",
    "- Pour utiliser des fonctions de gestion de l'aléatoire :\n",
    "    <pre>\n",
    "import random\n",
    "    </pre>\n",
    "    - génération d'une valeur aléatoire comprise entre 1 et 10 inclus :\n",
    "    <pre>\n",
    "random.randint(1,10)\n",
    "    </pre>\n",
    "    - tirage aléatoire d'un élément dans une liste :\n",
    "    <pre>\n",
    "random.choice(['a','b','c','d','e','f'])\n",
    "    </pre>"
   ]
  },
  {
   "cell_type": "code",
   "execution_count": null,
   "metadata": {},
   "outputs": [],
   "source": []
  }
 ],
 "metadata": {
  "kernelspec": {
   "display_name": "Python 3 (ipykernel)",
   "language": "python",
   "name": "python3"
  },
  "language_info": {
   "codemirror_mode": {
    "name": "ipython",
    "version": 3
   },
   "file_extension": ".py",
   "mimetype": "text/x-python",
   "name": "python",
   "nbconvert_exporter": "python",
   "pygments_lexer": "ipython3",
   "version": "3.9.6"
  }
 },
 "nbformat": 4,
 "nbformat_minor": 1
}
