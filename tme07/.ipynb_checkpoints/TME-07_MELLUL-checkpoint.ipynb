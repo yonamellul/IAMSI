{
 "cells": [
  {
   "cell_type": "markdown",
   "metadata": {},
   "source": [
    "IAMSI -- 2022-2023\n",
    "--------\n",
    "\n",
    "\n",
    "# TME 07: Règles d'association"
   ]
  },
  {
   "cell_type": "markdown",
   "metadata": {},
   "source": [
    "<font color=\"RED\" size=\"+1\">**[Q]**</font> **Indiquer dans la boîte ci-dessous vos noms et prénoms**"
   ]
  },
  {
   "cell_type": "markdown",
   "metadata": {},
   "source": [
    "*Double-cliquer ici et insérer les noms et prénoms de votre binôme*"
   ]
  },
  {
   "cell_type": "markdown",
   "metadata": {},
   "source": [
    "## Présentation"
   ]
  },
  {
   "cell_type": "markdown",
   "metadata": {},
   "source": [
    "### But de ce TME\n",
    "\n",
    "Ce TME a pour but de réaliser une implémentation *intuitive* de l'algorithme **apriori** afin de la comparer à une version efficace de cet algorithme, puis à une implémentation de l'algorithme **fp-growth**.\n"
   ]
  },
  {
   "cell_type": "markdown",
   "metadata": {},
   "source": [
    "#### Contenu de l'archive téléchargée\n",
    "\n",
    "Une fois détarée, l'archive **tme-07.tgz** crée le répertoire <code>tme09</code> contenant :\n",
    "- un répertoire <code>dataset</code> contenant des bases d'exemples pour tester les algorithmes\n",
    "- deux fichiers exécutables (Linux): <code>apriori32</code> et <code>fpgrowth32</code> (ces 2 programmes ont été développés par Christian Borgelt, plus d'infos sur sa page web  https://www.borgelt.net/software.html). Ces programmes seront utilisés en fin de séance. Si vous n'êtes pas sous Linux, vous pouvez trouver une version pour votre OS ici:\n",
    "    - <code>apriori</code> : https://borgelt.net/apriori.html\n",
    "    - <code>fpgrowth</code> : https://borgelt.net/fpgrowth.html\n",
    "\n"
   ]
  },
  {
   "cell_type": "markdown",
   "metadata": {},
   "source": [
    "#### Compte-rendu de la séance\n",
    "\n",
    "Le compte-rendu de ce TME se compose de ce notebook complété par les réponses aux questions posées.\n",
    "\n",
    "Ce compte-rendu est à poster : \n",
    "- à l'issue de la séance, un premier envoi doit être **obligatoirement** fait avec ce que vous avez réalisé\n",
    "- si nécessaire, un complément peut être envoyé **au plus tard avant le début de la prochaine séance**.\n"
   ]
  },
  {
   "cell_type": "markdown",
   "metadata": {},
   "source": [
    "<font color=\"RED\">IMPORTANT: soumission de votre fichier final</font>\n",
    "\n",
    "**Nom à donner au fichier à poster** : *Nom1_Nom2.ipynb* \n",
    "- *Nom1* et *Nom2* : noms des membres du binôme\n",
    "- ne pas compresser ou faire une archive: envoyer le notebook tel quel, éventuellement, si vous avez d'autres fichiers à envoyer, les  joindre au message."
   ]
  },
  {
   "cell_type": "code",
   "execution_count": 1,
   "metadata": {},
   "outputs": [
    {
     "data": {
      "text/plain": [
       "['/users/nfs/Etu6/3800646/Documents/IAMSI/tme-07',\n",
       " '/usr/lib/python39.zip',\n",
       " '/usr/lib/python3.9',\n",
       " '/usr/lib/python3.9/lib-dynload',\n",
       " '',\n",
       " '/users/Etu6/3800646/.local/lib/python3.9/site-packages',\n",
       " '/usr/local/lib/python3.9/dist-packages',\n",
       " '/usr/lib/python3/dist-packages']"
      ]
     },
     "execution_count": 1,
     "metadata": {},
     "output_type": "execute_result"
    }
   ],
   "source": [
    "# Vérification de la version de Python utilisée:\n",
    "import sys\n",
    "sys.path # le path doit contenir python3.5 ou une version supérieure"
   ]
  },
  {
   "cell_type": "markdown",
   "metadata": {},
   "source": [
    "## Traitement d'une base d'apprentissage\n",
    "\n",
    "\n",
    "### Chargement de la base\n",
    "\n",
    "On commence par travailler sur la base exemple du fichier <code>exemple-1.txt</code> (fourni dans le répertoire datasets). \n",
    "\n",
    "Ce fichier contient une transaction par ligne. Chaque transaction est composée d'un groupe d'items séparés par un espace.\n",
    "\n",
    "On peut charger en Python ce fichier par la commande suivante (le répertoire datasets doit se trouver dans le répertoire courant) :"
   ]
  },
  {
   "cell_type": "code",
   "execution_count": 2,
   "metadata": {
    "scrolled": true
   },
   "outputs": [
    {
     "name": "stdout",
     "output_type": "stream",
     "text": [
      "ligne 1 : ['a', 'b', 'c']\n",
      "ligne 2 : ['a', 'd', 'e']\n",
      "ligne 3 : ['b', 'c', 'd']\n",
      "ligne 4 : ['a', 'b', 'c', 'd']\n",
      "ligne 5 : ['b', 'c']\n",
      "ligne 6 : ['a', 'b', 'd']\n",
      "ligne 7 : ['d', 'e']\n",
      "ligne 8 : ['a', 'b', 'c', 'd']\n",
      "ligne 9 : ['c', 'd', 'e']\n",
      "ligne 10 : ['a', 'b', 'c']\n"
     ]
    }
   ],
   "source": [
    "import csv\n",
    "with open('datasets/exemple-1.txt', 'r') as fichier:\n",
    "    lecteur = csv.reader(fichier, delimiter=' ')\n",
    "    i = 0\n",
    "    for ligne in lecteur:\n",
    "        i += 1\n",
    "        print('ligne',i,':',ligne)"
   ]
  },
  {
   "cell_type": "markdown",
   "metadata": {},
   "source": [
    "<font color=\"RED\" size=\"+1\">**[Q]**</font>  Ecrire la fonction <code>chargeBase</code> qui prend en argument un nom de fichier, respectant le format énoncé plus haut, le lit et rend un dictionnaire dont les clés sont les numéros de ligne (une transaction) et les valeurs associées les itemsets correspondants représentés sous forme d'ensembles Python (des <code>set()</code> donc).\n",
    "\n",
    "Ici, il est plus intéressant de représenter un itemset comme un ensemble Python plutôt que comme une liste. Il est ainsi plus facile de réaliser des comparaisons d'ensembles ou des ajouts d'éléments.\n",
    "\n",
    "Dans le reste de ce document, on appelle **BASE** un dictionnaire de ce type."
   ]
  },
  {
   "cell_type": "code",
   "execution_count": 131,
   "metadata": {},
   "outputs": [],
   "source": [
    "def chargeBase(nomFichier, delimiter=' '):\n",
    "    base = {}\n",
    "    with open(nomFichier, 'r') as fichier:\n",
    "        lecteur = csv.reader(fichier, delimiter = delimiter)\n",
    "        i = 0\n",
    "        for ligne in lecteur:\n",
    "            i += 1\n",
    "            base[i] = set(ligne)\n",
    "    return base"
   ]
  },
  {
   "cell_type": "code",
   "execution_count": 28,
   "metadata": {},
   "outputs": [
    {
     "name": "stdout",
     "output_type": "stream",
     "text": [
      "Résultat du chargement de 'exemple-1.txt', on obtient : \n"
     ]
    },
    {
     "data": {
      "text/plain": [
       "{1: {'a', 'b', 'c'},\n",
       " 2: {'a', 'd', 'e'},\n",
       " 3: {'b', 'c', 'd'},\n",
       " 4: {'a', 'b', 'c', 'd'},\n",
       " 5: {'b', 'c'},\n",
       " 6: {'a', 'b', 'd'},\n",
       " 7: {'d', 'e'},\n",
       " 8: {'a', 'b', 'c', 'd'},\n",
       " 9: {'c', 'd', 'e'},\n",
       " 10: {'a', 'b', 'c'}}"
      ]
     },
     "execution_count": 28,
     "metadata": {},
     "output_type": "execute_result"
    }
   ],
   "source": [
    "print(\"Résultat du chargement de 'exemple-1.txt', on obtient : \")\n",
    "Base1 = chargeBase('datasets/exemple-1.txt')\n",
    "Base1"
   ]
  },
  {
   "cell_type": "markdown",
   "metadata": {},
   "source": [
    "On utilise la variable **Base1** dans la suite pour faire référence à cette base."
   ]
  },
  {
   "cell_type": "markdown",
   "metadata": {},
   "source": [
    "## Itemsets et support"
   ]
  },
  {
   "cell_type": "markdown",
   "metadata": {},
   "source": [
    "<font color=\"RED\" size=\"+1\">**[Q]**</font>  Ecrire la fonction <code>noms_items</code> qui prend en argument une BASE et rend l'ensemble des items qui composent cette base."
   ]
  },
  {
   "cell_type": "code",
   "execution_count": 18,
   "metadata": {},
   "outputs": [],
   "source": [
    "def noms_items(base):\n",
    "    return set.union(*base.values())\n",
    "    "
   ]
  },
  {
   "cell_type": "code",
   "execution_count": 20,
   "metadata": {},
   "outputs": [
    {
     "name": "stdout",
     "output_type": "stream",
     "text": [
      "Pour la BASE précédente :\n"
     ]
    },
    {
     "data": {
      "text/plain": [
       "{'a', 'b', 'c', 'd', 'e'}"
      ]
     },
     "execution_count": 20,
     "metadata": {},
     "output_type": "execute_result"
    }
   ],
   "source": [
    "print(\"Pour la BASE précédente :\")\n",
    "noms_items(Base1)"
   ]
  },
  {
   "cell_type": "markdown",
   "metadata": {},
   "source": [
    "<font color=\"RED\" size=\"+1\">**[Q]**</font>  Ecrire la fonction <code>singletons</code> qui prend en argument une BASE et rend la liste des itemsets de taille 1 obtenus à partir de cette base.\n",
    "\n",
    "*Remarque*: attention, ici on utilise une **liste** pour stocker les itemsets (un itemset est un ensemble Python) car il n'est pas possible en Python de créer des ensembles d'ensembles.\n"
   ]
  },
  {
   "cell_type": "code",
   "execution_count": 21,
   "metadata": {},
   "outputs": [],
   "source": [
    "def singletons(base):\n",
    "    items = noms_items(base)\n",
    "    return [{elem} for elem in items]"
   ]
  },
  {
   "cell_type": "code",
   "execution_count": 23,
   "metadata": {},
   "outputs": [
    {
     "name": "stdout",
     "output_type": "stream",
     "text": [
      "Exemple: singletons(Base1) rend :\n"
     ]
    },
    {
     "data": {
      "text/plain": [
       "[{'d'}, {'e'}, {'b'}, {'a'}, {'c'}]"
      ]
     },
     "execution_count": 23,
     "metadata": {},
     "output_type": "execute_result"
    }
   ],
   "source": [
    "print(\"Exemple: singletons(Base1) rend :\")\n",
    "singletons(Base1)"
   ]
  },
  {
   "cell_type": "markdown",
   "metadata": {},
   "source": [
    "<font color=\"RED\" size=\"+1\">**[Q]**</font>  Ecrire la fonction <code>comptage</code> qui, pour une BASE et un itemset donnés, rend le nombre de transactions de BASE qui contiennent cet itemset."
   ]
  },
  {
   "cell_type": "code",
   "execution_count": 37,
   "metadata": {},
   "outputs": [],
   "source": [
    "def comptage(base, itemset):\n",
    "    cpt = 0\n",
    "    for (n, itSet) in base.items():\n",
    "        if itemset <= itSet:\n",
    "            cpt += 1\n",
    "            \n",
    "    return cpt\n",
    "\n",
    "#    return sum(map(lambda x: itemset <= x, base))\n"
   ]
  },
  {
   "cell_type": "code",
   "execution_count": 38,
   "metadata": {},
   "outputs": [
    {
     "name": "stdout",
     "output_type": "stream",
     "text": [
      "Comptage de l'itemset {'a','b','c'} dans la base précédente : \n",
      "comptage(Base1,{'a','b','c'}) rend la valeur 4\n"
     ]
    }
   ],
   "source": [
    "print(\"Comptage de l'itemset {'a','b','c'} dans la base précédente : \")\n",
    "print(\"comptage(Base1,{'a','b','c'}) rend la valeur \"+str(comptage(Base1,{'a','b','c'})))"
   ]
  },
  {
   "cell_type": "markdown",
   "metadata": {},
   "source": [
    "<font color=\"RED\" size=\"+1\">**[Q]**</font>  Ecrire la fonction <code>support</code> qui, pour une BASE et un itemset donnés, rend le support de cet itemset dans la BASE."
   ]
  },
  {
   "cell_type": "code",
   "execution_count": 39,
   "metadata": {},
   "outputs": [],
   "source": [
    "def support(base, itemset):\n",
    "    return comptage(base, itemset) / len(base)"
   ]
  },
  {
   "cell_type": "code",
   "execution_count": 40,
   "metadata": {},
   "outputs": [
    {
     "name": "stdout",
     "output_type": "stream",
     "text": [
      "Support de l'itemset {'a','b','c'} dans la base précédente : 0.4\n"
     ]
    }
   ],
   "source": [
    "print(\"Support de l'itemset {'a','b','c'} dans la base précédente : \" \\\n",
    "      +str(support(Base1,{'a','b','c'})))"
   ]
  },
  {
   "cell_type": "markdown",
   "metadata": {},
   "source": [
    "## Implémentation de l'algorithme a-priori\n",
    "\n",
    "Dans cette partie, une implémentation de la partie de construction des itemsets fréquents de l'algorithme a-priori est réalisée. On ne s'intéresse pas dans cette question à la génération des règles d'association (mais cela peut être fait en complément).\n",
    "\n",
    "Votre programme doit pouvoir s'appliquer aux bases fournies dans le répertoire *datasets* (éventuellement, sur au moins les 10 premiers exemples de la base mushrooms)."
   ]
  },
  {
   "cell_type": "markdown",
   "metadata": {},
   "source": [
    "<font color=\"RED\" size=\"+1\">**[Q]**</font>  Ecrire la fonction <code>apriori_gen</code> qui prend en argument une liste d'itemsets de même longueur $k$, applique l'algorithme apriori-gen pour rendre la liste des itemsets candidats de longueurs $k+1$.\n"
   ]
  },
  {
   "cell_type": "code",
   "execution_count": 107,
   "metadata": {},
   "outputs": [],
   "source": [
    "def apriori_gen(F):\n",
    "    '''\n",
    "    F ensemble d'itemsets fréquents de longueur k\n",
    "    '''\n",
    "    if len(F) > 0:\n",
    "        k = len(F[0])\n",
    "\n",
    "        C = [(f1|f2) for f1 in F for f2 in F if len(f1|f2) == k+1 ]\n",
    "        R = []\n",
    "        \n",
    "        for c in C:\n",
    "\n",
    "            if c not in R:\n",
    "                okay = True\n",
    "                for i in c:\n",
    "                    if c -{i} not in F:\n",
    "                        okay = False\n",
    "                        break\n",
    "                if okay :\n",
    "                    R.append(c)\n",
    "\n",
    "\n",
    "\n",
    "        return R\n",
    "    return []"
   ]
  },
  {
   "cell_type": "code",
   "execution_count": 87,
   "metadata": {},
   "outputs": [
    {
     "name": "stdout",
     "output_type": "stream",
     "text": [
      "Exemple: apriori_gen([{'a'}, {'b'}, {'c'}, {'d'}]) rend \n",
      "[{'a', 'b'}, {'a', 'c'}, {'a', 'd'}, {'c', 'b'}, {'d', 'b'}, {'c', 'd'}]\n",
      "\n",
      "Exemple: apriori_gen([{'a','b'},{'a','d'},{'b','d'},{'b','c'},{'c','d'}]) rend \n",
      "[{'a', 'b', 'd'}, {'d', 'b', 'c'}]\n"
     ]
    }
   ],
   "source": [
    "print(\"Exemple: apriori_gen([{'a'}, {'b'}, {'c'}, {'d'}]) rend \")\n",
    "print(apriori_gen([{'a'}, {'b'}, {'c'}, {'d'}]))\n",
    "\n",
    "print(\"\\nExemple: apriori_gen([{'a','b'},{'a','d'},{'b','d'},{'b','c'},{'c','d'}]) rend \")\n",
    "print(apriori_gen([{'a', 'b'}, {'a', 'd'}, {'b', 'd'}, {'b', 'c'}, {'c', 'd'}]))"
   ]
  },
  {
   "cell_type": "markdown",
   "metadata": {},
   "source": [
    "<font color=\"RED\" size=\"+1\">**[Q]**</font>  Ecrire la fonction <code>apriori</code> qui prend en argument une BASE et une valeur réelle comprise entre 0 et 1, et qui rend une liste de tuples dont le premier élément et un itemset trouvé et le deuxième élément est la valeur de support correspondante."
   ]
  },
  {
   "cell_type": "code",
   "execution_count": 120,
   "metadata": {},
   "outputs": [],
   "source": [
    "def apriori(base, minsup):\n",
    "    Ck = []\n",
    "    Fk_supp = []\n",
    "    Fk = []\n",
    "    F = []\n",
    "    for c in singletons(base):\n",
    "        supp = support(base, c)\n",
    "        if supp >= minsup:\n",
    "            F.append((c, supp))\n",
    "            Ck.append(c)\n",
    "    \n",
    "    while Ck != [] :\n",
    "        Fk_supp = []\n",
    "        Fk = []\n",
    "        for c in Ck:\n",
    "            supp = support(base, c)\n",
    "            if supp >= minsup:\n",
    "                Fk_supp.append((c, supp))\n",
    "                Fk.append(c)\n",
    "        F.extend(Fk_supp)\n",
    "        Ck = apriori_gen(Fk)\n",
    "    return F"
   ]
  },
  {
   "cell_type": "code",
   "execution_count": 121,
   "metadata": {},
   "outputs": [
    {
     "name": "stdout",
     "output_type": "stream",
     "text": [
      "Exemple: apriori(Base1, 0.3]) rend \n",
      "[({'d'}, 0.7), ({'e'}, 0.3), ({'b'}, 0.7), ({'a'}, 0.6), ({'c'}, 0.7), ({'d'}, 0.7), ({'e'}, 0.3), ({'b'}, 0.7), ({'a'}, 0.6), ({'c'}, 0.7), ({'d', 'e'}, 0.3), ({'d', 'b'}, 0.4), ({'d', 'a'}, 0.4), ({'d', 'c'}, 0.4), ({'a', 'b'}, 0.5), ({'c', 'b'}, 0.6), ({'a', 'c'}, 0.4), ({'d', 'b', 'a'}, 0.3), ({'d', 'b', 'c'}, 0.3), ({'a', 'b', 'c'}, 0.4)]\n"
     ]
    }
   ],
   "source": [
    "print(\"Exemple: apriori(Base1, 0.3]) rend \")\n",
    "print(apriori(Base1,0.3))"
   ]
  },
  {
   "cell_type": "markdown",
   "metadata": {},
   "source": [
    "## Expérimentations"
   ]
  },
  {
   "cell_type": "markdown",
   "metadata": {},
   "source": [
    "### Vérification avec la base du TD\n",
    "\n",
    "Utiliser la fonction <code>apriori</code> avec la base de transactions du TD afin de vérifier que les itemsets obtenus sont corrects."
   ]
  },
  {
   "cell_type": "code",
   "execution_count": 98,
   "metadata": {},
   "outputs": [],
   "source": [
    "BaseTD = chargeBase('datasets/exemple-td.txt')\n"
   ]
  },
  {
   "cell_type": "code",
   "execution_count": 99,
   "metadata": {},
   "outputs": [
    {
     "name": "stdout",
     "output_type": "stream",
     "text": [
      "Exemple: apriori(BaseTD, 0.3) rend \n",
      "[({'d'}, 0.9), ({'e'}, 0.6), ({'b'}, 0.7), ({'a'}, 0.5), ({'c'}, 0.5), ({'d', 'e'}, 0.6), ({'d', 'b'}, 0.6), ({'d', 'a'}, 0.4), ({'d', 'c'}, 0.4), ({'e', 'b'}, 0.4), ({'e', 'a'}, 0.4), ({'a', 'b'}, 0.3), ({'c', 'b'}, 0.3), ({'d', 'b', 'e'}, 0.4), ({'d', 'e', 'a'}, 0.4)]\n"
     ]
    }
   ],
   "source": [
    "print(\"Exemple: apriori(BaseTD, 0.3) rend \")\n",
    "print(apriori(BaseTD,0.3))"
   ]
  },
  {
   "cell_type": "markdown",
   "metadata": {},
   "source": [
    "### Comparaisons avec les implémentations apriori et fpgrowth"
   ]
  },
  {
   "cell_type": "markdown",
   "metadata": {},
   "source": [
    "<font color=\"RED\" size=\"+1\">**[Q]**</font>  Tester votre fonction <code>apriori</code> sur les 3 bases données dans datasets et confronter les résultats obtenus avec ceux fournis par l'exécutable <code>apriori</code>."
   ]
  },
  {
   "cell_type": "code",
   "execution_count": 132,
   "metadata": {},
   "outputs": [
    {
     "name": "stdout",
     "output_type": "stream",
     "text": [
      "Résultat du chargement de 'mushrooms.txt', on obtient : \n",
      "8416  transactions.\n"
     ]
    }
   ],
   "source": [
    "print(\"Résultat du chargement de 'mushrooms.txt', on obtient : \")\n",
    "Base_mushrooms = chargeBase('datasets/mushrooms.txt', delimiter = ',')\n",
    "#Base_mushrooms\n",
    "print(len(Base_mushrooms),' transactions.')"
   ]
  },
  {
   "cell_type": "code",
   "execution_count": 134,
   "metadata": {
    "scrolled": false
   },
   "outputs": [
    {
     "name": "stdout",
     "output_type": "stream",
     "text": [
      "Pour la BASE précédente :\n",
      "Exemple: singletons(Base_mushrooms) rend :\n"
     ]
    }
   ],
   "source": [
    "print(\"Pour la BASE précédente :\")\n",
    "noms_items(Base_mushrooms)\n",
    "print(\"Exemple: singletons(Base_mushrooms) rend :\")\n",
    "#singletons(Base_mushrooms)"
   ]
  },
  {
   "cell_type": "code",
   "execution_count": 135,
   "metadata": {},
   "outputs": [
    {
     "name": "stdout",
     "output_type": "stream",
     "text": [
      "[({'FREE'}, 0.9743346007604563), ({'WHITE'}, 0.9771863117870723), ({'ONE'}, 0.9230038022813688), ({'PARTIAL'}, 1.0), ({'FREE'}, 0.9743346007604563), ({'WHITE'}, 0.9771863117870723), ({'ONE'}, 0.9230038022813688), ({'PARTIAL'}, 1.0), ({'FREE', 'WHITE'}, 0.9743346007604563), ({'FREE', 'ONE'}, 0.9001901140684411), ({'FREE', 'PARTIAL'}, 0.9743346007604563), ({'ONE', 'WHITE'}, 0.9001901140684411), ({'PARTIAL', 'WHITE'}, 0.9771863117870723), ({'PARTIAL', 'ONE'}, 0.9230038022813688), ({'FREE', 'ONE', 'WHITE'}, 0.9001901140684411), ({'FREE', 'PARTIAL', 'WHITE'}, 0.9743346007604563), ({'FREE', 'PARTIAL', 'ONE'}, 0.9001901140684411), ({'ONE', 'WHITE', 'PARTIAL'}, 0.9001901140684411), ({'FREE', 'WHITE', 'PARTIAL', 'ONE'}, 0.9001901140684411)]\n"
     ]
    }
   ],
   "source": [
    "print(apriori(Base_mushrooms,0.9))"
   ]
  },
  {
   "cell_type": "code",
   "execution_count": 21,
   "metadata": {},
   "outputs": [
    {
     "name": "stdout",
     "output_type": "stream",
     "text": [
      "[({'WHITE'}, 0.9771863117870723), ({'PARTIAL'}, 1.0), ({'FREE'}, 0.9743346007604563), ({'ONE'}, 0.9230038022813688), ({'WHITE', 'PARTIAL'}, 0.9771863117870723), ({'WHITE', 'FREE'}, 0.9743346007604563), ({'WHITE', 'ONE'}, 0.9001901140684411), ({'PARTIAL', 'FREE'}, 0.9743346007604563), ({'PARTIAL', 'ONE'}, 0.9230038022813688), ({'FREE', 'ONE'}, 0.9001901140684411), ({'WHITE', 'PARTIAL', 'FREE'}, 0.9743346007604563), ({'WHITE', 'PARTIAL', 'ONE'}, 0.9001901140684411), ({'WHITE', 'FREE', 'ONE'}, 0.9001901140684411), ({'PARTIAL', 'FREE', 'ONE'}, 0.9001901140684411), ({'FREE', 'WHITE', 'PARTIAL', 'ONE'}, 0.9001901140684411)]\n"
     ]
    }
   ],
   "source": [
    "print(apriori(Base_mushrooms,0.9))"
   ]
  },
  {
   "cell_type": "code",
   "execution_count": 137,
   "metadata": {},
   "outputs": [
    {
     "name": "stdout",
     "output_type": "stream",
     "text": [
      "Résultat du chargement de 'titanic-red.csv', on obtient : \n",
      "741  transactions.\n"
     ]
    }
   ],
   "source": [
    "print(\"Résultat du chargement de 'titanic-red.csv', on obtient : \")\n",
    "Base_titanic = chargeBase('datasets/titanic-red.csv',delimiter=',')\n",
    "print(len(Base_titanic),' transactions.')"
   ]
  },
  {
   "cell_type": "code",
   "execution_count": 140,
   "metadata": {},
   "outputs": [
    {
     "name": "stdout",
     "output_type": "stream",
     "text": [
      "Pour la BASE Titanic :\n",
      "Exemple: singletons(Base_titanic) rend :\n"
     ]
    }
   ],
   "source": [
    "# décommenter les lignes suivantes:\n",
    "\n",
    "print(\"Pour la BASE Titanic :\")\n",
    "noms_items(Base_titanic)\n",
    "\n",
    "print(\"Exemple: singletons(Base_titanic) rend :\")\n",
    "#singletons(Base_titanic)"
   ]
  },
  {
   "cell_type": "code",
   "execution_count": 142,
   "metadata": {},
   "outputs": [
    {
     "name": "stdout",
     "output_type": "stream",
     "text": [
      "({'dead', 'male'}, 0.46963562753036436)\n",
      "({'Southampton', 'male'}, 0.46288798920377866)\n",
      "({'Southampton', 'dead'}, 0.41295546558704455)\n",
      "({'Southampton', 'dead', 'male'}, 0.3684210526315789)\n",
      "({'female', 'alive'}, 0.32388663967611336)\n",
      "({'Southampton', '2nd'}, 0.30634278002699056)\n",
      "({'Southampton', 'alive'}, 0.2982456140350877)\n",
      "({'Southampton', 'female'}, 0.2483130904183536)\n",
      "({'1st', 'alive'}, 0.23076923076923078)\n",
      "({'1st', 'male'}, 0.21997300944669365)\n",
      "({'Southampton', '1st'}, 0.20917678812415655)\n",
      "({'2nd', 'male'}, 0.20647773279352227)\n",
      "({'Southampton', 'female', 'alive'}, 0.203778677462888)\n"
     ]
    }
   ],
   "source": [
    "Lres = apriori(Base_titanic,0.2)\n",
    "\n",
    "# tri sur les valeurs de supports:\n",
    "#print(sorted(Lres, key=lambda data: data[1]))\n",
    "\n",
    "# tri sur la taille des itemsets\n",
    "#print(sorted(Lres, key=lambda data: len(data[0])))\n",
    "\n",
    "for t in sorted(Lres, key=lambda data: data[1],reverse = True):\n",
    "    if len(t[0])>1:\n",
    "        print(t)\n"
   ]
  },
  {
   "cell_type": "markdown",
   "metadata": {},
   "source": [
    "<font color=\"RED\" size=\"+1\">**[Q]**</font>  Utiliser l'éxécutable <code>apriori</code> pour générer des règles d'association (voir les différentes options en annexe) sur les différentes bases de données fournies. Tester différents seuils (support et confiance). "
   ]
  },
  {
   "cell_type": "raw",
   "metadata": {},
   "source": [
    "./apriori -trs50m2n5 datasets/exemple-1.txt fichier-resultat.out  \n",
    "\n",
    "c <- a b (50, 80)\n",
    "b <- a (60, 83.3333)\n",
    "c <- b (70, 85.7143)\n",
    "b <- c (70, 85.7143)"
   ]
  },
  {
   "cell_type": "raw",
   "metadata": {},
   "source": [
    "./apriori -trs50m2n5 datasets/exemple-td.txt fichier-resultat.out  \n",
    "\n",
    "d <- c (50, 80)\n",
    "e <- a (50, 80)\n",
    "d <- a (50, 80)\n",
    "d <- e (60, 100)\n",
    "d <- b (70, 85.7143)"
   ]
  },
  {
   "cell_type": "markdown",
   "metadata": {},
   "source": [
    "<font color=\"RED\" size=\"+1\">**[Q]**</font>   Ajouter les deux mesures d'intérêt vues en TD (lift et RR) et afficher leurs valeurs pour chaque règle trouvée. Ajouter un argument au programme afin de pouvoir sélectionner une de ces mesures pour éliminer les règles inintéressantes.\n"
   ]
  },
  {
   "cell_type": "code",
   "execution_count": null,
   "metadata": {},
   "outputs": [],
   "source": []
  },
  {
   "cell_type": "markdown",
   "metadata": {},
   "source": [
    "<font color=\"RED\" size=\"+1\">**[Q]**</font>  Ajouter les deux mesures d'intérêt suivantes et afficher leurs valeurs\n",
    "  pour chaque règle trouvée. Ajouter un argument au programme afin de pouvoir sélectionner une de ces mesures pour éliminer les règles inintéressantes.\n",
    "  \n",
    "Par exemple:\n",
    "\n",
    "\\begin{align}\n",
    "  \\mbox{Interest}(X \\longrightarrow Y) & =  \\frac{P(X,Y)}{P(X)}P(Y) \\nonumber\\\\\n",
    " \\mbox{IS}(X \\longrightarrow Y) & =  \\frac{P(X,Y)}{\\sqrt{P(X)P(Y)}} \\nonumber\n",
    "\\end{align}"
   ]
  },
  {
   "cell_type": "markdown",
   "metadata": {},
   "source": [
    "### Utilisation de fp-growth"
   ]
  },
  {
   "cell_type": "markdown",
   "metadata": {},
   "source": [
    "<font color=\"RED\" size=\"+1\">**[Q]**</font>   Utiliser <code>fpgrowth</code> pour générer des règles d'association sur les différentes\n",
    "  bases de données. Comparer avec les résultats obtenus dans la section précédente. En  particulier, comparer les temps d'éxecution."
   ]
  },
  {
   "cell_type": "code",
   "execution_count": null,
   "metadata": {},
   "outputs": [],
   "source": []
  },
  {
   "cell_type": "markdown",
   "metadata": {},
   "source": [
    "<font color=\"RED\" size=\"+1\">**[Q]**</font>  En essayant différentes valeurs de seuil, tester la génération de règles d'association intéressantes sur les bases de données fournies."
   ]
  },
  {
   "cell_type": "code",
   "execution_count": null,
   "metadata": {},
   "outputs": [],
   "source": []
  },
  {
   "cell_type": "markdown",
   "metadata": {},
   "source": [
    "## Annexes: utilisation des exécutables *apriori* et *fpgrowth*\n",
    "\n",
    "La documentation complète de ces programmes est disponible aux URL suivantes:\n",
    "- pour *apriori*: https://www.borgelt.net/doc/apriori/apriori.html\n",
    "- pour *fp-growth*: https://www.borgelt.net/doc/fpgrowth/fpgrowth.html\n",
    "\n",
    "\n",
    "Leur format d'utilisation général est:\n",
    "\n",
    "        ./<programme> [options] infile [outfile]\n",
    "\n",
    "(où <<code>programme</code>> est soit *apriori*, soit *fpgrowth*).\n",
    "\n",
    "Les options de base de ces 2 programmes sont:\n",
    "- sans argument: génération des itemsets fréquents (argument {<code>-ts</code> activé par défaut)\n",
    "- *tr*: pour obtenir les règles d'associations\n",
    "- *s*: pour fournir une valeur minimale de support. Le support est ici donné en valeur absolue ($n_{AB}$) et non pas en valeur relative ($\\frac{n_{AB}}{n}$).\n",
    "- *m*: pour fournir un nombre minimum d'items dans un itemset\n",
    "- *n*: pour fournir un nombre maximum d'items dans un itemset\n",
    "\n",
    "\n",
    "Par exemple (commandes lancées dans le répertoire père du répertoire *datasets/*):\n",
    "\n",
    "        ./apriori -trs50m2n5 datasets/exemple-1.txt fichier-resultat.out  \n",
    "        ./fpgrowth -trs50m2n5 datasets/mushrooms.txt fichier-resultat.out  \n"
   ]
  },
  {
   "cell_type": "code",
   "execution_count": null,
   "metadata": {},
   "outputs": [],
   "source": []
  }
 ],
 "metadata": {
  "kernelspec": {
   "display_name": "Python 3 (ipykernel)",
   "language": "python",
   "name": "python3"
  },
  "language_info": {
   "codemirror_mode": {
    "name": "ipython",
    "version": 3
   },
   "file_extension": ".py",
   "mimetype": "text/x-python",
   "name": "python",
   "nbconvert_exporter": "python",
   "pygments_lexer": "ipython3",
   "version": "3.9.2"
  }
 },
 "nbformat": 4,
 "nbformat_minor": 1
}
