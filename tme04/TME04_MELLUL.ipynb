{
 "cells": [
  {
   "cell_type": "markdown",
   "metadata": {},
   "source": [
    "# TME 04 - IAMSI"
   ]
  },
  {
   "cell_type": "code",
   "execution_count": null,
   "metadata": {},
   "outputs": [],
   "source": []
  },
  {
   "cell_type": "code",
   "execution_count": null,
   "metadata": {},
   "outputs": [],
   "source": []
  },
  {
   "cell_type": "code",
   "execution_count": null,
   "metadata": {},
   "outputs": [],
   "source": [
    "\n",
    "\n"
   ]
  },
  {
   "cell_type": "markdown",
   "metadata": {},
   "source": [
    "### Exercice 2"
   ]
  },
  {
   "cell_type": "markdown",
   "metadata": {},
   "source": [
    "#### Question 1. Exprimer en fonction de ne et nj le nombre de variables propositionnelles utilisées"
   ]
  },
  {
   "cell_type": "markdown",
   "metadata": {},
   "source": [
    "Le nombre de variables propositionelles utilisées est nJ * nE * (nE - 1).\n",
    "\n",
    "En effet, chaque jour, chaque équipe peut affronter toutes les autres équipes (sauf elle-même evidemment)."
   ]
  },
  {
   "cell_type": "code",
   "execution_count": 1,
   "metadata": {},
   "outputs": [],
   "source": [
    "def nbVar(nE, nJ):\n",
    "    return nJ*nE*(nE-1)"
   ]
  },
  {
   "cell_type": "markdown",
   "metadata": {},
   "source": [
    "#### Question 2. Ecrire une fonction de codage qui prend en argument ne, nj , j, x, y, et qui renvoie k"
   ]
  },
  {
   "cell_type": "code",
   "execution_count": 2,
   "metadata": {},
   "outputs": [],
   "source": [
    "def getK(nE, nJ, j, x, y):\n",
    "    return j*nE**2 + x*nE + y + 1"
   ]
  },
  {
   "cell_type": "markdown",
   "metadata": {},
   "source": [
    "#### Question 3. Ecrire une fonction de décodage qui retrouve j, x et y à partir de k, ne."
   ]
  },
  {
   "cell_type": "code",
   "execution_count": 3,
   "metadata": {},
   "outputs": [],
   "source": [
    "def decodage(k, nE):\n",
    "    k = k-1\n",
    "    y = k%nE\n",
    "    k = k//nE\n",
    "    x = k%nE\n",
    "    j = k//nE\n",
    "    \n",
    "    return j, x, y"
   ]
  },
  {
   "cell_type": "markdown",
   "metadata": {},
   "source": [
    "### Exercice 3 - Génération d’un planning de matchs"
   ]
  },
  {
   "cell_type": "markdown",
   "metadata": {},
   "source": [
    "#### Question 1. Contraintes de cardinalité.\n",
    "Il s’agit ici de se doter de quelques fonctions pour faciliter l’encodage du problème avec des contraintes de cardinalité ”au plus 1” et ”au moins 1”. Pour la contrainte ”au plus 1”, on considère dans cet exercice un encodage par paires."
   ]
  },
  {
   "cell_type": "markdown",
   "metadata": {},
   "source": [
    "##### 1. Ecrire une fonction qui prend en argument une liste d’entiers et renvoie une clause, au format DIMACS, correspondant à la contrainte ”au moins une de ces variables est vraie” (Σivi ≥ 1)."
   ]
  },
  {
   "cell_type": "code",
   "execution_count": 4,
   "metadata": {},
   "outputs": [],
   "source": [
    "def atLeastOne(liste):\n",
    "    res = \"\"\n",
    "    for elem in liste:\n",
    "        res+= str(elem) +\" \"\n",
    "    res += \"0\\n\"\n",
    "    return res "
   ]
  },
  {
   "cell_type": "code",
   "execution_count": 5,
   "metadata": {},
   "outputs": [
    {
     "name": "stdout",
     "output_type": "stream",
     "text": [
      "1 -2 7 5 0\n",
      "\n"
     ]
    }
   ],
   "source": [
    "print(atLeastOne([1, -2, 7, 5]))"
   ]
  },
  {
   "cell_type": "markdown",
   "metadata": {},
   "source": [
    "##### 2. Ecrire une fonction qui prend en argument une liste d’entiers et renvoie une clause, au format DIMACS, correspondant à la contrainte ”au plus une de ces variables est vraie” (Σivi >= 1)."
   ]
  },
  {
   "cell_type": "code",
   "execution_count": 6,
   "metadata": {},
   "outputs": [],
   "source": [
    "def atMostOne(liste):\n",
    "    n = len(liste)\n",
    "    res = \"\"\n",
    "    for i in range(n):\n",
    "        for j in range(i, n):\n",
    "            if i != j:\n",
    "                res += str(-liste[i]) + \" \" + str(-liste[j]) + \" 0\\n\"\n",
    "                \n",
    "    return res\n"
   ]
  },
  {
   "cell_type": "code",
   "execution_count": 7,
   "metadata": {},
   "outputs": [
    {
     "name": "stdout",
     "output_type": "stream",
     "text": [
      "-1 2 0\n",
      "-1 -3 0\n",
      "-1 -4 0\n",
      "2 -3 0\n",
      "2 -4 0\n",
      "-3 -4 0\n",
      "\n"
     ]
    }
   ],
   "source": [
    "print(atMostOne([1,-2, 3, 4]))"
   ]
  },
  {
   "cell_type": "markdown",
   "metadata": {},
   "source": [
    "#### Question 2. Traduction du problème.\n",
    "On s’attache maintenant à traduire le problème en une formule logique propositionnelle, en passant éventuellement par l’intermédiaire de contraintes de cardinalite."
   ]
  },
  {
   "cell_type": "markdown",
   "metadata": {},
   "source": [
    "##### 1. Traduire la contrainte C1 ”chaque équipe ne peut jouer plus d’un match par jour” en un ensemble de contraintes de cardinalité."
   ]
  },
  {
   "cell_type": "markdown",
   "metadata": {},
   "source": [
    "##### 2. Ecrire une fonction encoderC1 qui génère ces contraintes pour ne et nj donné."
   ]
  },
  {
   "cell_type": "code",
   "execution_count": 8,
   "metadata": {},
   "outputs": [],
   "source": [
    "def decoderListe(liste, nE):\n",
    "    for elem in liste:\n",
    "        j,x,y = decodage(elem, nE)\n",
    "        print(elem, \" : jour\", j,\", equipe\", x, \" vs. equipe\", y)\n",
    "    "
   ]
  },
  {
   "cell_type": "code",
   "execution_count": 10,
   "metadata": {},
   "outputs": [],
   "source": [
    "def encoderC1(nE, nJ):\n",
    "    #print(\"encoderC1\")\n",
    "    res = \"\"\n",
    "    for j in range(nJ):\n",
    "        #print(\"jour = \", j)\n",
    "        for x in range(nE):\n",
    "            #print(\"\\tx =\", x)\n",
    "            liste = []\n",
    "            for y in range(nE):\n",
    "                if x != y:\n",
    "                    liste.append(getK(nE, nJ, j, x, y))\n",
    "                    liste.append(getK(nE, nJ, j, y, x))\n",
    "\n",
    "                    \n",
    "            #decoderListe(liste, nE)\n",
    "            res += atMostOne(liste)\n",
    "            \n",
    "    return res"
   ]
  },
  {
   "cell_type": "code",
   "execution_count": 23,
   "metadata": {},
   "outputs": [
    {
     "name": "stdout",
     "output_type": "stream",
     "text": [
      "encoderC1\n",
      "nb de clauses attendues =  72\n",
      "nb de clauses obtenues =  72\n"
     ]
    }
   ],
   "source": []
  },
  {
   "cell_type": "markdown",
   "metadata": {},
   "source": [
    "##### 3. Indiquer le nombre de contraintes et de clauses générées pour 3 équipes sur 4 jours et expliciter ces contraintes."
   ]
  },
  {
   "cell_type": "markdown",
   "metadata": {},
   "source": [
    "#### LE CAS GÉNÉRAL:\n",
    "\n",
    "Pour chaque jour (nJ jours), chaque équipe (nE equipes) ne peut jouer ne peut jouer qu'au plus UN match (que ce soit à domicile ou à l'exterieur).\n",
    "Donc il y'a $nJ*nE$ contraintes.\n",
    "\n",
    "Pour chaque contrainte (equipe et jour fixé), on verifie que cette equipe a au maximum un match ce jour là (atMostOne). Donc, on vérifie que parmi les variables représentant cette equipe à ce jour (il y en a $2(nE-1)= 2nE-2$) , il n'y en ai qu'une maximum qui soit verifiée.\n",
    "\n",
    "Cela donne donc $(((2nE-2)*(2nE-3))/2)$ clauses par contrainte.\n",
    "On a $nJ*nE*(((2nE-2)*(2nE-3))/2)$ clauses au total pour les contraintes de types C1.\n",
    "\n",
    "#### CAS AVEC 3 ÉQUIPES ET 4 JOURS:\n",
    "On a donc 3*4 = 12 contraintes qui génèreront en tout 72 clauses."
   ]
  },
  {
   "cell_type": "code",
   "execution_count": 24,
   "metadata": {},
   "outputs": [],
   "source": [
    "def nbClausesC1(nE, nJ):\n",
    "    return int(nJ * nE * ((2*nE-2) * (2*nE -3))/2)"
   ]
  },
  {
   "cell_type": "code",
   "execution_count": 25,
   "metadata": {},
   "outputs": [
    {
     "name": "stdout",
     "output_type": "stream",
     "text": [
      "encoderC1\n",
      "nb de clauses attendues =  72\n",
      "nb de clauses obtenues =  72\n"
     ]
    }
   ],
   "source": [
    "nE = 3\n",
    "nJ = 4\n",
    "c = encoderC1(nE, nJ)\n",
    "print(\"nb de clauses attendues = \", nbClausesC1(nE, nJ))\n",
    "print(\"nb de clauses obtenues = \", c.count(\"0\\n\"))\n",
    "\n",
    "#print(c)"
   ]
  },
  {
   "cell_type": "markdown",
   "metadata": {},
   "source": [
    "##### 4. Traduire la contrainte C2 ”Sur la durée du championnat, chaque équipe doit rencontrer l’ensemble des autres équipes une fois à domicile et une fois à l’extérieur, soit exactement 2 matchs par équipe adverse.” en un ensemble de contraintes de cardinalités."
   ]
  },
  {
   "cell_type": "markdown",
   "metadata": {},
   "source": [
    "##### 5. Ecrire une fonction encoderC2 qui génère ces contraintes pour ne et nj donné.\n"
   ]
  },
  {
   "cell_type": "code",
   "execution_count": 34,
   "metadata": {},
   "outputs": [],
   "source": [
    "def encoderC2(nE, nJ):\n",
    "    #print(\"encoderC2\")\n",
    "    res = \"\"\n",
    "    l1 = []\n",
    "    l2 = []\n",
    "    for equipe in range(nE):\n",
    "        #print(\"\\nequipe =\", equipe)\n",
    "        \n",
    "        for y in range(equipe, nE):\n",
    "            l1 = []\n",
    "            l2 = []\n",
    "            if equipe != y:\n",
    "                #print(\"\\ty =\", y)\n",
    "                for j in range(nJ):\n",
    "                    l1.append(getK(nE, nJ, j, equipe, y))\n",
    "                    l2.append(getK(nE, nJ, j, y, equipe))\n",
    "                #print(\"un match a domicile avec equipe\", y)\n",
    "                #decoderListe(l1, nE)\n",
    "                #print(\"un match à l'exterieur avec equipe\", y)\n",
    "                #decoderListe(l2, nE)\n",
    "            \n",
    "                res += atLeastOne(l1) + atMostOne(l1)\n",
    "                res += atLeastOne(l2) + atMostOne(l2)\n",
    "    return res"
   ]
  },
  {
   "cell_type": "markdown",
   "metadata": {},
   "source": [
    "##### 6. Indiquer le nombre de contraintes et de clauses générées pour 3 équipes sur 4 jours et expliciter ces contraintes.\n"
   ]
  },
  {
   "cell_type": "markdown",
   "metadata": {},
   "source": [
    "#### LE CAS GÉNÉRAL:\n",
    "Il y a deux contraintes par couples d'équipes differentes, afin que chaque équipe ait exactement 1 match a domicile et 1 match a l'exterieur avec toutes les autres equipes\n",
    "Cela donne $((nE(nE-1))/2) * 2 = nE*(nE-1)$ contraintes.\n",
    "\n",
    "Chaque contrainte génère 1 clause pour le atLeastOne et $((nJ(nJ-1))/2)$ pour le atMostOne\n",
    "\n",
    "Donc le nombre total de clauses est : $nE(nE-1) * (1+((nJ(nJ-1))/2))$\n",
    "\n",
    "\n",
    "#### CAS AVEC 3 ÉQUIPES ET 4 JOURS:\n",
    "On a donc 6 contraintes qui génereront 6*(1+6) = 42 clauses"
   ]
  },
  {
   "cell_type": "code",
   "execution_count": 28,
   "metadata": {},
   "outputs": [],
   "source": [
    "def nbClausesC2(nE, nJ):\n",
    "    return int(nE*(nE-1) * (1+((nJ*(nJ-1))/2)))\n"
   ]
  },
  {
   "cell_type": "code",
   "execution_count": 29,
   "metadata": {},
   "outputs": [
    {
     "name": "stdout",
     "output_type": "stream",
     "text": [
      "encoderC2\n",
      "nb de clauses attendues = 42\n",
      "nb de clauses obtenues = 42\n"
     ]
    }
   ],
   "source": [
    "nE = 3\n",
    "nJ = 4\n",
    "c = encoderC2(nE, nJ)\n",
    "print(\"nb de clauses attendues =\", nbClausesC2(nE, nJ))\n",
    "print(\"nb de clauses obtenues =\", c.count(\"0\\n\"))\n"
   ]
  },
  {
   "cell_type": "markdown",
   "metadata": {},
   "source": [
    "##### 7. Ecrire un programme encoder qui encode toutes les contraintes C1 et C2 pour ne et nj donné."
   ]
  },
  {
   "cell_type": "code",
   "execution_count": 30,
   "metadata": {},
   "outputs": [],
   "source": [
    "def encoder(nE, nJ):\n",
    "    return \"c contraintes de types C1\\n\"+encoderC1(nE, nJ) +\"c contraintes de types C2\\n\"+ encoderC2(nE, nJ)"
   ]
  },
  {
   "cell_type": "code",
   "execution_count": 31,
   "metadata": {},
   "outputs": [],
   "source": [
    "def nbClauses(nE, nJ):\n",
    "    return nbClausesC1(nE, nJ) + nbClausesC2(nE, nJ)"
   ]
  },
  {
   "cell_type": "code",
   "execution_count": 32,
   "metadata": {},
   "outputs": [],
   "source": [
    "def creerCNF(nE, nJ, chemin):\n",
    "\n",
    "    f = open(chemin, \"w\")\n",
    "    title = \"c title\\n\"\n",
    "    nl = \"c\\n\"\n",
    "    intro = \"p cnf \" + str(nbVar(nE, nJ)) +\" \"+ str(nbClauses(nE, nJ))+ \"\\n\"\n",
    "    c = encoder(nE,nJ)\n",
    "    f.writelines([title, nl, intro, c])\n",
    "    \n",
    "    "
   ]
  },
  {
   "cell_type": "code",
   "execution_count": 33,
   "metadata": {},
   "outputs": [
    {
     "name": "stdout",
     "output_type": "stream",
     "text": [
      "encoderC1\n",
      "encoderC2\n"
     ]
    }
   ],
   "source": [
    "nE = 3\n",
    "nJ = 4\n",
    "chemin = \"./cnf/doc\"\n",
    "creerCNF(nE, nJ, chemin+\"1.cnf\")"
   ]
  },
  {
   "cell_type": "markdown",
   "metadata": {},
   "source": [
    "#### Question 3. Utilisation du solveur.\n",
    "Utiliser glucose sur la CNF générée à la question précédente et vérifier la première solution proposée pour 3 équipes sur 4 jours. Qu’est-il nécessaire d’ajouter aux deux contraintes C1 et C2 ?\n"
   ]
  },
  {
   "cell_type": "markdown",
   "metadata": {},
   "source": [
    "#### Question 4. Décodage.\n",
    "Ecrire une fonction ou un programme decoder qui prend pour argument un fichier contenant la sortie de l’appel à glucose (plus éventuellement nj et ne) et qui traduit le modèle rendu en une solution du problème de planning des matchs affichée lisiblement. On peut faire appel à un fichier extérieur donnant le nom des équipes : une par ligne dans leur ordre de numérotation.\n"
   ]
  },
  {
   "cell_type": "markdown",
   "metadata": {},
   "source": [
    "#### Question 5. Assemblage final.\n",
    "Ecrire un programme ou un script qui ´etant donné ne, nj et un fichier de noms d’équipes, affiche un planning des matchs en utilisant les programmes écrits dans les questions précédentes."
   ]
  },
  {
   "cell_type": "code",
   "execution_count": null,
   "metadata": {},
   "outputs": [],
   "source": []
  }
 ],
 "metadata": {
  "kernelspec": {
   "display_name": "Python 3",
   "language": "python",
   "name": "python3"
  },
  "language_info": {
   "codemirror_mode": {
    "name": "ipython",
    "version": 3
   },
   "file_extension": ".py",
   "mimetype": "text/x-python",
   "name": "python",
   "nbconvert_exporter": "python",
   "pygments_lexer": "ipython3",
   "version": "3.7.4"
  }
 },
 "nbformat": 4,
 "nbformat_minor": 5
}
