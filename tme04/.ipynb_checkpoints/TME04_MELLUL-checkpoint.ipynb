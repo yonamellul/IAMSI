{
 "cells": [
  {
   "cell_type": "code",
   "execution_count": null,
   "id": "7b18cf2e",
   "metadata": {},
   "outputs": [],
   "source": []
  },
  {
   "cell_type": "code",
   "execution_count": null,
   "id": "f39191b7",
   "metadata": {},
   "outputs": [],
   "source": []
  },
  {
   "cell_type": "code",
   "execution_count": null,
   "id": "a6c7aa69",
   "metadata": {},
   "outputs": [],
   "source": []
  },
  {
   "cell_type": "markdown",
   "id": "0d107483",
   "metadata": {},
   "source": [
    "### Exercice 2"
   ]
  },
  {
   "cell_type": "markdown",
   "id": "6a590419",
   "metadata": {},
   "source": [
    "#### Question 1. Exprimer en fonction de ne et nj le nombre de variables propositionnelles utilisées"
   ]
  },
  {
   "cell_type": "markdown",
   "id": "f8ab64a1",
   "metadata": {},
   "source": [
    "Le nombre de variables propositionelles utilisées est nJ * nE * (nE - 1).\n",
    "\n",
    "En effet, chaque jour, chaque équipe peut affronter toutes les autres équipes (sauf elle-même evidemment)."
   ]
  },
  {
   "cell_type": "markdown",
   "id": "bf05ec42",
   "metadata": {},
   "source": [
    "#### Question 2. Ecrire une fonction de codage qui prend en argument ne, nj , j, x, y, et qui renvoie k"
   ]
  },
  {
   "cell_type": "code",
   "execution_count": 6,
   "id": "8cf78d6f",
   "metadata": {},
   "outputs": [],
   "source": [
    "def getK(nE, nJ, j, x, y):\n",
    "    return j*nE**2 + x*nE + y + 1"
   ]
  },
  {
   "cell_type": "markdown",
   "id": "cad8ee7d",
   "metadata": {},
   "source": [
    "#### Question 3. Ecrire une fonction de décodage qui retrouve j, x et y à partir de k, ne."
   ]
  },
  {
   "cell_type": "code",
   "execution_count": 9,
   "id": "b78c0bb8",
   "metadata": {},
   "outputs": [],
   "source": [
    "def decodage(k, nE):\n",
    "    k = k-1\n",
    "    y = k%nE\n",
    "    k = k//nE\n",
    "    x = k%nE\n",
    "    j = k//nE\n",
    "    \n",
    "    return j, x, y"
   ]
  },
  {
   "cell_type": "markdown",
   "id": "795fbf82",
   "metadata": {},
   "source": [
    "### Exercice 3 - Génération d’un planning de matchs"
   ]
  },
  {
   "cell_type": "markdown",
   "id": "846bd928",
   "metadata": {},
   "source": [
    "#### Question 1. Contraintes de cardinalité.\n",
    "Il s’agit ici de se doter de quelques fonctions pour faciliter l’encodage du problème avec des contraintes de cardinalité ”au plus 1” et ”au moins 1”. Pour la contrainte ”au plus 1”, on considère dans cet exercice un encodage par paires."
   ]
  },
  {
   "cell_type": "markdown",
   "id": "ac4290bb",
   "metadata": {},
   "source": [
    "##### 1. Ecrire une fonction qui prend en argument une liste d’entiers et renvoie une clause, au format DIMACS, correspondant à la contrainte ”au moins une de ces variables est vraie” (Σivi ≥ 1)."
   ]
  },
  {
   "cell_type": "code",
   "execution_count": 10,
   "id": "a1eb436d",
   "metadata": {},
   "outputs": [],
   "source": [
    "def atLeastOne(liste):\n",
    "    res = \"\"\n",
    "    for elem in liste:\n",
    "        res+= str(elem) +\" \"\n",
    "    res += \"0\"\n",
    "    return res "
   ]
  },
  {
   "cell_type": "code",
   "execution_count": 11,
   "id": "97a2cfb2",
   "metadata": {},
   "outputs": [
    {
     "name": "stdout",
     "output_type": "stream",
     "text": [
      "1 -2 7 5 0\n"
     ]
    }
   ],
   "source": [
    "print(atLeastOne([1, -2, 7, 5]))"
   ]
  },
  {
   "cell_type": "markdown",
   "id": "b5937832",
   "metadata": {},
   "source": [
    "##### 2. Ecrire une fonction qui prend en argument une liste d’entiers et renvoie une clause, au format DIMACS, correspondant à la contrainte ”au plus une de ces variables est vraie” (Σivi >= 1)."
   ]
  },
  {
   "cell_type": "code",
   "execution_count": 18,
   "id": "e32f63f5",
   "metadata": {},
   "outputs": [],
   "source": [
    "def atMostOne(liste):\n",
    "    n = len(liste)\n",
    "    if n == 1:\n",
    "        return str(liste[0])+\" 0\"\n",
    "    \n",
    "    res = \"\"\n",
    "    for i in range(n):\n",
    "        for j in range(i, n):\n",
    "            if i != j:\n",
    "                res += str(-liste[i]) + \" \" + str(-liste[j]) + \" 0\\n\"\n",
    "                \n",
    "    return res\n"
   ]
  },
  {
   "cell_type": "code",
   "execution_count": 21,
   "id": "622e8f29",
   "metadata": {},
   "outputs": [
    {
     "name": "stdout",
     "output_type": "stream",
     "text": [
      "-1 2 0\n",
      "-1 -7 0\n",
      "2 -7 0\n",
      "\n"
     ]
    }
   ],
   "source": [
    "print(atMostOne([1,-2,7]))"
   ]
  },
  {
   "cell_type": "markdown",
   "id": "3219fa56",
   "metadata": {},
   "source": [
    "#### Question 2. Traduction du problème.\n",
    "On s’attache maintenant à traduire le problème en une formule logique propositionnelle, en passant éventuellement par l’intermédiaire de contraintes de cardinalite."
   ]
  },
  {
   "cell_type": "markdown",
   "id": "53b79e49",
   "metadata": {},
   "source": [
    "##### 1. Traduire la contrainte C1 ”chaque équipe ne peut jouer plus d’un match par jour” en un ensemble de contraintes de cardinalité."
   ]
  },
  {
   "cell_type": "markdown",
   "id": "bf07e872",
   "metadata": {},
   "source": [
    "##### 2. Ecrire une fonction encoderC1 qui génère ces contraintes pour ne et nj donné."
   ]
  },
  {
   "cell_type": "code",
   "execution_count": 27,
   "id": "9de52423",
   "metadata": {},
   "outputs": [],
   "source": [
    "def encoderC1(nE, nJ):\n",
    "    res = \"\"\n",
    "    for j in range(nJ):\n",
    "        for x in range(nE):\n",
    "            l1 = [getK(nE, nJ, j, x, y) for y in range(nE)]\n",
    "            l2 = [getK(nE, nJ, j, y, x) for y in range(nE)]\n",
    "            res += atMostOne(l1.extend(l2))\n",
    "        \n",
    "    return res"
   ]
  },
  {
   "cell_type": "code",
   "execution_count": 30,
   "id": "1efcc904",
   "metadata": {},
   "outputs": [
    {
     "name": "stdout",
     "output_type": "stream",
     "text": [
      "-1 -2 0\n",
      "-1 -1 0\n",
      "-1 -3 0\n",
      "-2 -1 0\n",
      "-2 -3 0\n",
      "-1 -3 0\n",
      "-3 -4 0\n",
      "-3 -2 0\n",
      "-3 -4 0\n",
      "-4 -2 0\n",
      "-4 -4 0\n",
      "-2 -4 0\n",
      "-5 -6 0\n",
      "-5 -5 0\n",
      "-5 -7 0\n",
      "-6 -5 0\n",
      "-6 -7 0\n",
      "-5 -7 0\n",
      "-7 -8 0\n",
      "-7 -6 0\n",
      "-7 -8 0\n",
      "-8 -6 0\n",
      "-8 -8 0\n",
      "-6 -8 0\n",
      "\n"
     ]
    }
   ],
   "source": [
    "print(encoderC1(2, 2))"
   ]
  },
  {
   "cell_type": "code",
   "execution_count": null,
   "id": "bdbe35a7",
   "metadata": {},
   "outputs": [],
   "source": []
  },
  {
   "cell_type": "code",
   "execution_count": null,
   "id": "323f34f5",
   "metadata": {},
   "outputs": [],
   "source": []
  }
 ],
 "metadata": {
  "kernelspec": {
   "display_name": "Python 3 (ipykernel)",
   "language": "python",
   "name": "python3"
  },
  "language_info": {
   "codemirror_mode": {
    "name": "ipython",
    "version": 3
   },
   "file_extension": ".py",
   "mimetype": "text/x-python",
   "name": "python",
   "nbconvert_exporter": "python",
   "pygments_lexer": "ipython3",
   "version": "3.9.2"
  }
 },
 "nbformat": 4,
 "nbformat_minor": 5
}
